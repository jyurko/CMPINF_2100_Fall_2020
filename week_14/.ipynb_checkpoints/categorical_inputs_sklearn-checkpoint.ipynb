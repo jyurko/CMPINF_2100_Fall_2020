{
 "cells": [
  {
   "cell_type": "markdown",
   "metadata": {},
   "source": [
    "## Working with categorical inputs in sklearn"
   ]
  },
  {
   "cell_type": "code",
   "execution_count": 1,
   "metadata": {},
   "outputs": [],
   "source": [
    "import numpy as np\n",
    "import pandas as pd\n",
    "import matplotlib.pyplot as plt\n",
    "\n",
    "import seaborn as sns"
   ]
  },
  {
   "cell_type": "markdown",
   "metadata": {},
   "source": [
    "## Read in the data "
   ]
  },
  {
   "cell_type": "markdown",
   "metadata": {},
   "source": [
    "Use the example data set from Week 11."
   ]
  },
  {
   "cell_type": "code",
   "execution_count": 2,
   "metadata": {},
   "outputs": [],
   "source": [
    "data_url = 'https://raw.githubusercontent.com/jyurko/CMPINF_2100_Fall_2020/master/week_11/week_11_example_data.csv'\n",
    "df = pd.read_csv(data_url)"
   ]
  },
  {
   "cell_type": "code",
   "execution_count": 3,
   "metadata": {},
   "outputs": [
    {
     "name": "stdout",
     "output_type": "stream",
     "text": [
      "<class 'pandas.core.frame.DataFrame'>\n",
      "RangeIndex: 300 entries, 0 to 299\n",
      "Data columns (total 6 columns):\n",
      " #   Column  Non-Null Count  Dtype  \n",
      "---  ------  --------------  -----  \n",
      " 0   x1      300 non-null    float64\n",
      " 1   x2      300 non-null    float64\n",
      " 2   x3      300 non-null    float64\n",
      " 3   x4      300 non-null    float64\n",
      " 4   x5      300 non-null    object \n",
      " 5   y       300 non-null    int64  \n",
      "dtypes: float64(4), int64(1), object(1)\n",
      "memory usage: 14.2+ KB\n"
     ]
    }
   ],
   "source": [
    "df.info()"
   ]
  },
  {
   "cell_type": "code",
   "execution_count": 4,
   "metadata": {},
   "outputs": [
    {
     "data": {
      "image/png": "[encoded data removed]",
      "text/plain": [
       "<Figure size 720x360 with 1 Axes>"
      ]
     },
     "metadata": {
      "needs_background": "light"
     },
     "output_type": "display_data"
    }
   ],
   "source": [
    "sns.catplot(data = df, kind='box', aspect=2)\n",
    "\n",
    "plt.show()"
   ]
  },
  {
   "cell_type": "markdown",
   "metadata": {},
   "source": [
    "## Fit a logistic regression model with a discrete input"
   ]
  },
  {
   "cell_type": "markdown",
   "metadata": {},
   "source": [
    "Use stasmodels as a review."
   ]
  },
  {
   "cell_type": "code",
   "execution_count": 5,
   "metadata": {},
   "outputs": [],
   "source": [
    "import statsmodels.formula.api as smf"
   ]
  },
  {
   "cell_type": "code",
   "execution_count": 6,
   "metadata": {},
   "outputs": [
    {
     "name": "stdout",
     "output_type": "stream",
     "text": [
      "Optimization terminated successfully.\n",
      "         Current function value: 0.588229\n",
      "         Iterations 5\n"
     ]
    }
   ],
   "source": [
    "stats_fit = smf.logit( formula = 'y ~ x1 + x2 + x3 + x4 + x5', data = df).fit()"
   ]
  },
  {
   "cell_type": "code",
   "execution_count": 7,
   "metadata": {},
   "outputs": [
    {
     "name": "stdout",
     "output_type": "stream",
     "text": [
      "                           Logit Regression Results                           \n",
      "==============================================================================\n",
      "Dep. Variable:                      y   No. Observations:                  300\n",
      "Model:                          Logit   Df Residuals:                      293\n",
      "Method:                           MLE   Df Model:                            6\n",
      "Date:                Fri, 20 Nov 2020   Pseudo R-squ.:                 0.08238\n",
      "Time:                        01:22:25   Log-Likelihood:                -176.47\n",
      "converged:                       True   LL-Null:                       -192.31\n",
      "Covariance Type:            nonrobust   LLR p-value:                 1.876e-05\n",
      "==============================================================================\n",
      "                 coef    std err          z      P>|z|      [0.025      0.975]\n",
      "------------------------------------------------------------------------------\n",
      "Intercept     -0.6745      0.254     -2.653      0.008      -1.173      -0.176\n",
      "x5[T.b]       -0.2898      0.314     -0.922      0.357      -0.906       0.326\n",
      "x5[T.c]        0.3100      0.354      0.876      0.381      -0.383       1.003\n",
      "x1             0.3104      0.130      2.383      0.017       0.055       0.566\n",
      "x2            -0.5796      0.137     -4.220      0.000      -0.849      -0.310\n",
      "x3             0.1139      0.130      0.877      0.380      -0.140       0.368\n",
      "x4            -0.0488      0.130     -0.374      0.709      -0.304       0.207\n",
      "==============================================================================\n"
     ]
    }
   ],
   "source": [
    "print( stats_fit.summary() )"
   ]
  },
  {
   "cell_type": "markdown",
   "metadata": {},
   "source": [
    "Look at the design matrix to see the dummy variables."
   ]
  },
  {
   "cell_type": "code",
   "execution_count": 8,
   "metadata": {},
   "outputs": [],
   "source": [
    "from patsy import dmatrices"
   ]
  },
  {
   "cell_type": "code",
   "execution_count": 9,
   "metadata": {},
   "outputs": [],
   "source": [
    "ydmat, Xdmat = dmatrices( 'y ~ x1 + x2 + x3 + x4 + x5', df)"
   ]
  },
  {
   "cell_type": "code",
   "execution_count": 10,
   "metadata": {},
   "outputs": [
    {
     "data": {
      "text/html": [
       "<div>\n",
       "<style scoped>\n",
       "    .dataframe tbody tr th:only-of-type {\n",
       "        vertical-align: middle;\n",
       "    }\n",
       "\n",
       "    .dataframe tbody tr th {\n",
       "        vertical-align: top;\n",
       "    }\n",
       "\n",
       "    .dataframe thead th {\n",
       "        text-align: right;\n",
       "    }\n",
       "</style>\n",
       "<table border=\"1\" class=\"dataframe\">\n",
       "  <thead>\n",
       "    <tr style=\"text-align: right;\">\n",
       "      <th></th>\n",
       "      <th>Intercept</th>\n",
       "      <th>x5[T.b]</th>\n",
       "      <th>x5[T.c]</th>\n",
       "      <th>x1</th>\n",
       "      <th>x2</th>\n",
       "      <th>x3</th>\n",
       "      <th>x4</th>\n",
       "    </tr>\n",
       "  </thead>\n",
       "  <tbody>\n",
       "    <tr>\n",
       "      <th>0</th>\n",
       "      <td>1.0</td>\n",
       "      <td>0.0</td>\n",
       "      <td>1.0</td>\n",
       "      <td>1.077412</td>\n",
       "      <td>-0.991094</td>\n",
       "      <td>0.208610</td>\n",
       "      <td>-1.019744</td>\n",
       "    </tr>\n",
       "    <tr>\n",
       "      <th>1</th>\n",
       "      <td>1.0</td>\n",
       "      <td>1.0</td>\n",
       "      <td>0.0</td>\n",
       "      <td>-0.637747</td>\n",
       "      <td>-0.307506</td>\n",
       "      <td>-1.794250</td>\n",
       "      <td>1.189993</td>\n",
       "    </tr>\n",
       "    <tr>\n",
       "      <th>2</th>\n",
       "      <td>1.0</td>\n",
       "      <td>1.0</td>\n",
       "      <td>0.0</td>\n",
       "      <td>1.345143</td>\n",
       "      <td>-1.075281</td>\n",
       "      <td>1.685044</td>\n",
       "      <td>0.167879</td>\n",
       "    </tr>\n",
       "    <tr>\n",
       "      <th>3</th>\n",
       "      <td>1.0</td>\n",
       "      <td>1.0</td>\n",
       "      <td>0.0</td>\n",
       "      <td>1.659924</td>\n",
       "      <td>0.735156</td>\n",
       "      <td>-0.210541</td>\n",
       "      <td>-2.534105</td>\n",
       "    </tr>\n",
       "    <tr>\n",
       "      <th>4</th>\n",
       "      <td>1.0</td>\n",
       "      <td>1.0</td>\n",
       "      <td>0.0</td>\n",
       "      <td>1.182378</td>\n",
       "      <td>1.599140</td>\n",
       "      <td>-0.301995</td>\n",
       "      <td>1.206648</td>\n",
       "    </tr>\n",
       "    <tr>\n",
       "      <th>...</th>\n",
       "      <td>...</td>\n",
       "      <td>...</td>\n",
       "      <td>...</td>\n",
       "      <td>...</td>\n",
       "      <td>...</td>\n",
       "      <td>...</td>\n",
       "      <td>...</td>\n",
       "    </tr>\n",
       "    <tr>\n",
       "      <th>295</th>\n",
       "      <td>1.0</td>\n",
       "      <td>0.0</td>\n",
       "      <td>1.0</td>\n",
       "      <td>1.239739</td>\n",
       "      <td>1.572756</td>\n",
       "      <td>0.610548</td>\n",
       "      <td>1.402896</td>\n",
       "    </tr>\n",
       "    <tr>\n",
       "      <th>296</th>\n",
       "      <td>1.0</td>\n",
       "      <td>0.0</td>\n",
       "      <td>1.0</td>\n",
       "      <td>-0.528292</td>\n",
       "      <td>3.120873</td>\n",
       "      <td>0.357688</td>\n",
       "      <td>-0.599724</td>\n",
       "    </tr>\n",
       "    <tr>\n",
       "      <th>297</th>\n",
       "      <td>1.0</td>\n",
       "      <td>1.0</td>\n",
       "      <td>0.0</td>\n",
       "      <td>0.256334</td>\n",
       "      <td>1.293508</td>\n",
       "      <td>0.023925</td>\n",
       "      <td>-0.996928</td>\n",
       "    </tr>\n",
       "    <tr>\n",
       "      <th>298</th>\n",
       "      <td>1.0</td>\n",
       "      <td>1.0</td>\n",
       "      <td>0.0</td>\n",
       "      <td>-0.628451</td>\n",
       "      <td>0.373513</td>\n",
       "      <td>0.038140</td>\n",
       "      <td>2.197234</td>\n",
       "    </tr>\n",
       "    <tr>\n",
       "      <th>299</th>\n",
       "      <td>1.0</td>\n",
       "      <td>1.0</td>\n",
       "      <td>0.0</td>\n",
       "      <td>1.250264</td>\n",
       "      <td>1.105026</td>\n",
       "      <td>0.593161</td>\n",
       "      <td>-0.584460</td>\n",
       "    </tr>\n",
       "  </tbody>\n",
       "</table>\n",
       "<p>300 rows × 7 columns</p>\n",
       "</div>"
      ],
      "text/plain": [
       "     Intercept  x5[T.b]  x5[T.c]        x1        x2        x3        x4\n",
       "0          1.0      0.0      1.0  1.077412 -0.991094  0.208610 -1.019744\n",
       "1          1.0      1.0      0.0 -0.637747 -0.307506 -1.794250  1.189993\n",
       "2          1.0      1.0      0.0  1.345143 -1.075281  1.685044  0.167879\n",
       "3          1.0      1.0      0.0  1.659924  0.735156 -0.210541 -2.534105\n",
       "4          1.0      1.0      0.0  1.182378  1.599140 -0.301995  1.206648\n",
       "..         ...      ...      ...       ...       ...       ...       ...\n",
       "295        1.0      0.0      1.0  1.239739  1.572756  0.610548  1.402896\n",
       "296        1.0      0.0      1.0 -0.528292  3.120873  0.357688 -0.599724\n",
       "297        1.0      1.0      0.0  0.256334  1.293508  0.023925 -0.996928\n",
       "298        1.0      1.0      0.0 -0.628451  0.373513  0.038140  2.197234\n",
       "299        1.0      1.0      0.0  1.250264  1.105026  0.593161 -0.584460\n",
       "\n",
       "[300 rows x 7 columns]"
      ]
     },
     "execution_count": 10,
     "metadata": {},
     "output_type": "execute_result"
    }
   ],
   "source": [
    "pd.DataFrame( Xdmat, columns=stats_fit.params.index )"
   ]
  },
  {
   "cell_type": "markdown",
   "metadata": {},
   "source": [
    "If we wanted to fit in sklearn, we would want to **NOT** use the intercept column of ones. So instead of using dummy variables we would **one-hot encoding**."
   ]
  },
  {
   "cell_type": "code",
   "execution_count": 11,
   "metadata": {},
   "outputs": [],
   "source": [
    "ysk, Xsk = dmatrices( 'y ~ x1 + x2 + x3 + x4 + x5 - 1', df)"
   ]
  },
  {
   "cell_type": "code",
   "execution_count": 12,
   "metadata": {},
   "outputs": [
    {
     "data": {
      "text/html": [
       "<div>\n",
       "<style scoped>\n",
       "    .dataframe tbody tr th:only-of-type {\n",
       "        vertical-align: middle;\n",
       "    }\n",
       "\n",
       "    .dataframe tbody tr th {\n",
       "        vertical-align: top;\n",
       "    }\n",
       "\n",
       "    .dataframe thead th {\n",
       "        text-align: right;\n",
       "    }\n",
       "</style>\n",
       "<table border=\"1\" class=\"dataframe\">\n",
       "  <thead>\n",
       "    <tr style=\"text-align: right;\">\n",
       "      <th></th>\n",
       "      <th>0</th>\n",
       "      <th>1</th>\n",
       "      <th>2</th>\n",
       "      <th>3</th>\n",
       "      <th>4</th>\n",
       "      <th>5</th>\n",
       "      <th>6</th>\n",
       "    </tr>\n",
       "  </thead>\n",
       "  <tbody>\n",
       "    <tr>\n",
       "      <th>0</th>\n",
       "      <td>0.0</td>\n",
       "      <td>0.0</td>\n",
       "      <td>1.0</td>\n",
       "      <td>1.077412</td>\n",
       "      <td>-0.991094</td>\n",
       "      <td>0.208610</td>\n",
       "      <td>-1.019744</td>\n",
       "    </tr>\n",
       "    <tr>\n",
       "      <th>1</th>\n",
       "      <td>0.0</td>\n",
       "      <td>1.0</td>\n",
       "      <td>0.0</td>\n",
       "      <td>-0.637747</td>\n",
       "      <td>-0.307506</td>\n",
       "      <td>-1.794250</td>\n",
       "      <td>1.189993</td>\n",
       "    </tr>\n",
       "    <tr>\n",
       "      <th>2</th>\n",
       "      <td>0.0</td>\n",
       "      <td>1.0</td>\n",
       "      <td>0.0</td>\n",
       "      <td>1.345143</td>\n",
       "      <td>-1.075281</td>\n",
       "      <td>1.685044</td>\n",
       "      <td>0.167879</td>\n",
       "    </tr>\n",
       "    <tr>\n",
       "      <th>3</th>\n",
       "      <td>0.0</td>\n",
       "      <td>1.0</td>\n",
       "      <td>0.0</td>\n",
       "      <td>1.659924</td>\n",
       "      <td>0.735156</td>\n",
       "      <td>-0.210541</td>\n",
       "      <td>-2.534105</td>\n",
       "    </tr>\n",
       "    <tr>\n",
       "      <th>4</th>\n",
       "      <td>0.0</td>\n",
       "      <td>1.0</td>\n",
       "      <td>0.0</td>\n",
       "      <td>1.182378</td>\n",
       "      <td>1.599140</td>\n",
       "      <td>-0.301995</td>\n",
       "      <td>1.206648</td>\n",
       "    </tr>\n",
       "    <tr>\n",
       "      <th>...</th>\n",
       "      <td>...</td>\n",
       "      <td>...</td>\n",
       "      <td>...</td>\n",
       "      <td>...</td>\n",
       "      <td>...</td>\n",
       "      <td>...</td>\n",
       "      <td>...</td>\n",
       "    </tr>\n",
       "    <tr>\n",
       "      <th>295</th>\n",
       "      <td>0.0</td>\n",
       "      <td>0.0</td>\n",
       "      <td>1.0</td>\n",
       "      <td>1.239739</td>\n",
       "      <td>1.572756</td>\n",
       "      <td>0.610548</td>\n",
       "      <td>1.402896</td>\n",
       "    </tr>\n",
       "    <tr>\n",
       "      <th>296</th>\n",
       "      <td>0.0</td>\n",
       "      <td>0.0</td>\n",
       "      <td>1.0</td>\n",
       "      <td>-0.528292</td>\n",
       "      <td>3.120873</td>\n",
       "      <td>0.357688</td>\n",
       "      <td>-0.599724</td>\n",
       "    </tr>\n",
       "    <tr>\n",
       "      <th>297</th>\n",
       "      <td>0.0</td>\n",
       "      <td>1.0</td>\n",
       "      <td>0.0</td>\n",
       "      <td>0.256334</td>\n",
       "      <td>1.293508</td>\n",
       "      <td>0.023925</td>\n",
       "      <td>-0.996928</td>\n",
       "    </tr>\n",
       "    <tr>\n",
       "      <th>298</th>\n",
       "      <td>0.0</td>\n",
       "      <td>1.0</td>\n",
       "      <td>0.0</td>\n",
       "      <td>-0.628451</td>\n",
       "      <td>0.373513</td>\n",
       "      <td>0.038140</td>\n",
       "      <td>2.197234</td>\n",
       "    </tr>\n",
       "    <tr>\n",
       "      <th>299</th>\n",
       "      <td>0.0</td>\n",
       "      <td>1.0</td>\n",
       "      <td>0.0</td>\n",
       "      <td>1.250264</td>\n",
       "      <td>1.105026</td>\n",
       "      <td>0.593161</td>\n",
       "      <td>-0.584460</td>\n",
       "    </tr>\n",
       "  </tbody>\n",
       "</table>\n",
       "<p>300 rows × 7 columns</p>\n",
       "</div>"
      ],
      "text/plain": [
       "       0    1    2         3         4         5         6\n",
       "0    0.0  0.0  1.0  1.077412 -0.991094  0.208610 -1.019744\n",
       "1    0.0  1.0  0.0 -0.637747 -0.307506 -1.794250  1.189993\n",
       "2    0.0  1.0  0.0  1.345143 -1.075281  1.685044  0.167879\n",
       "3    0.0  1.0  0.0  1.659924  0.735156 -0.210541 -2.534105\n",
       "4    0.0  1.0  0.0  1.182378  1.599140 -0.301995  1.206648\n",
       "..   ...  ...  ...       ...       ...       ...       ...\n",
       "295  0.0  0.0  1.0  1.239739  1.572756  0.610548  1.402896\n",
       "296  0.0  0.0  1.0 -0.528292  3.120873  0.357688 -0.599724\n",
       "297  0.0  1.0  0.0  0.256334  1.293508  0.023925 -0.996928\n",
       "298  0.0  1.0  0.0 -0.628451  0.373513  0.038140  2.197234\n",
       "299  0.0  1.0  0.0  1.250264  1.105026  0.593161 -0.584460\n",
       "\n",
       "[300 rows x 7 columns]"
      ]
     },
     "execution_count": 12,
     "metadata": {},
     "output_type": "execute_result"
    }
   ],
   "source": [
    "pd.DataFrame( Xsk )"
   ]
  },
  {
   "cell_type": "markdown",
   "metadata": {},
   "source": [
    "Fit a logistic regression model with sklearn."
   ]
  },
  {
   "cell_type": "code",
   "execution_count": 13,
   "metadata": {},
   "outputs": [],
   "source": [
    "from sklearn.linear_model import LogisticRegression"
   ]
  },
  {
   "cell_type": "markdown",
   "metadata": {},
   "source": [
    "When we fit with the one-hot encoding in sklearn, we should set `fit_intercept` to False.  \n",
    "\n",
    "**Important**: if we were fitting a model with only continuous variables, and we created the design matrix with `dmatrices()` and we did not include the intercept column of ones (by including the the `-1` term in the formula), we would set `fit_intercept=True` in the sklearn call.  \n",
    "\n",
    "In this application, we will set `fit_intercept=False` because of the one-hot encoding.\n",
    "\n",
    "Also, note that the `penalty` argument is set to `False`."
   ]
  },
  {
   "cell_type": "code",
   "execution_count": 14,
   "metadata": {},
   "outputs": [],
   "source": [
    "sk_fit_mle = LogisticRegression(penalty='none', solver='lbfgs', fit_intercept=False).fit(Xsk, ysk.ravel())"
   ]
  },
  {
   "cell_type": "markdown",
   "metadata": {},
   "source": [
    "As a check, let's confirm that the intercpept was **not** fit and is equal to zero."
   ]
  },
  {
   "cell_type": "code",
   "execution_count": 15,
   "metadata": {},
   "outputs": [
    {
     "data": {
      "text/plain": [
       "array([0.])"
      ]
     },
     "execution_count": 15,
     "metadata": {},
     "output_type": "execute_result"
    }
   ],
   "source": [
    "sk_fit_mle.intercept_"
   ]
  },
  {
   "cell_type": "markdown",
   "metadata": {},
   "source": [
    "Let's now directly compare the statsmodels coefficient estimates with the sklearn estimates. Note that the DataFrame index is labeled as `Intercept` for the zeroth row. That is true for the statsmodels coefficient, but the sklearn coefficient is actually the one-hot encoding column associated with `x5='a'`. Notice that they have the same coefficient value! Because they have the same interpretation! The coefficients associated with `x5='b'` and `x5='c'` however are different. That is due to dummy variables are the **relative** effect compared to the reference level stored in the intercept. While the one-hot encoding formulation is estimate associated with that category."
   ]
  },
  {
   "cell_type": "code",
   "execution_count": 16,
   "metadata": {},
   "outputs": [
    {
     "data": {
      "text/html": [
       "<div>\n",
       "<style scoped>\n",
       "    .dataframe tbody tr th:only-of-type {\n",
       "        vertical-align: middle;\n",
       "    }\n",
       "\n",
       "    .dataframe tbody tr th {\n",
       "        vertical-align: top;\n",
       "    }\n",
       "\n",
       "    .dataframe thead th {\n",
       "        text-align: right;\n",
       "    }\n",
       "</style>\n",
       "<table border=\"1\" class=\"dataframe\">\n",
       "  <thead>\n",
       "    <tr style=\"text-align: right;\">\n",
       "      <th></th>\n",
       "      <th>statsmodels</th>\n",
       "      <th>sklearn_no_penalty</th>\n",
       "    </tr>\n",
       "  </thead>\n",
       "  <tbody>\n",
       "    <tr>\n",
       "      <th>Intercept</th>\n",
       "      <td>-0.674470</td>\n",
       "      <td>-0.674465</td>\n",
       "    </tr>\n",
       "    <tr>\n",
       "      <th>x5[T.b]</th>\n",
       "      <td>-0.289844</td>\n",
       "      <td>-0.964304</td>\n",
       "    </tr>\n",
       "    <tr>\n",
       "      <th>x5[T.c]</th>\n",
       "      <td>0.310042</td>\n",
       "      <td>-0.364434</td>\n",
       "    </tr>\n",
       "    <tr>\n",
       "      <th>x1</th>\n",
       "      <td>0.310394</td>\n",
       "      <td>0.310406</td>\n",
       "    </tr>\n",
       "    <tr>\n",
       "      <th>x2</th>\n",
       "      <td>-0.579591</td>\n",
       "      <td>-0.579577</td>\n",
       "    </tr>\n",
       "    <tr>\n",
       "      <th>x3</th>\n",
       "      <td>0.113856</td>\n",
       "      <td>0.113846</td>\n",
       "    </tr>\n",
       "    <tr>\n",
       "      <th>x4</th>\n",
       "      <td>-0.048754</td>\n",
       "      <td>-0.048760</td>\n",
       "    </tr>\n",
       "  </tbody>\n",
       "</table>\n",
       "</div>"
      ],
      "text/plain": [
       "           statsmodels  sklearn_no_penalty\n",
       "Intercept    -0.674470           -0.674465\n",
       "x5[T.b]      -0.289844           -0.964304\n",
       "x5[T.c]       0.310042           -0.364434\n",
       "x1            0.310394            0.310406\n",
       "x2           -0.579591           -0.579577\n",
       "x3            0.113856            0.113846\n",
       "x4           -0.048754           -0.048760"
      ]
     },
     "execution_count": 16,
     "metadata": {},
     "output_type": "execute_result"
    }
   ],
   "source": [
    "pd.DataFrame({'statsmodels': stats_fit.params,\n",
    "             'sklearn_no_penalty': list(sk_fit_mle.coef_.ravel())})"
   ]
  },
  {
   "cell_type": "markdown",
   "metadata": {},
   "source": [
    "## Create the dummy variables with Pandas"
   ]
  },
  {
   "cell_type": "markdown",
   "metadata": {},
   "source": [
    "Use the `pd.get_dummies()` function to create the dummy variables or the one-hot encoding from the Pandas dataframe."
   ]
  },
  {
   "cell_type": "code",
   "execution_count": 17,
   "metadata": {},
   "outputs": [],
   "source": [
    "### extract the input and output features\n",
    "xinput = df.loc[:, ['x1', 'x2', 'x3', 'x4', 'x5']].copy()\n",
    "\n",
    "youtput = df.loc[:, ['y']].copy()"
   ]
  },
  {
   "cell_type": "markdown",
   "metadata": {},
   "source": [
    "Create the one-hot encoding with Pandas."
   ]
  },
  {
   "cell_type": "code",
   "execution_count": 18,
   "metadata": {},
   "outputs": [],
   "source": [
    "xfeatures_onehot = pd.get_dummies(xinput)"
   ]
  },
  {
   "cell_type": "markdown",
   "metadata": {},
   "source": [
    "First, examine the input feature DataFrame. Look at the `x5` column values."
   ]
  },
  {
   "cell_type": "code",
   "execution_count": 19,
   "metadata": {},
   "outputs": [
    {
     "data": {
      "text/html": [
       "<div>\n",
       "<style scoped>\n",
       "    .dataframe tbody tr th:only-of-type {\n",
       "        vertical-align: middle;\n",
       "    }\n",
       "\n",
       "    .dataframe tbody tr th {\n",
       "        vertical-align: top;\n",
       "    }\n",
       "\n",
       "    .dataframe thead th {\n",
       "        text-align: right;\n",
       "    }\n",
       "</style>\n",
       "<table border=\"1\" class=\"dataframe\">\n",
       "  <thead>\n",
       "    <tr style=\"text-align: right;\">\n",
       "      <th></th>\n",
       "      <th>x1</th>\n",
       "      <th>x2</th>\n",
       "      <th>x3</th>\n",
       "      <th>x4</th>\n",
       "      <th>x5</th>\n",
       "    </tr>\n",
       "  </thead>\n",
       "  <tbody>\n",
       "    <tr>\n",
       "      <th>0</th>\n",
       "      <td>1.077412</td>\n",
       "      <td>-0.991094</td>\n",
       "      <td>0.208610</td>\n",
       "      <td>-1.019744</td>\n",
       "      <td>c</td>\n",
       "    </tr>\n",
       "    <tr>\n",
       "      <th>1</th>\n",
       "      <td>-0.637747</td>\n",
       "      <td>-0.307506</td>\n",
       "      <td>-1.794250</td>\n",
       "      <td>1.189993</td>\n",
       "      <td>b</td>\n",
       "    </tr>\n",
       "    <tr>\n",
       "      <th>2</th>\n",
       "      <td>1.345143</td>\n",
       "      <td>-1.075281</td>\n",
       "      <td>1.685044</td>\n",
       "      <td>0.167879</td>\n",
       "      <td>b</td>\n",
       "    </tr>\n",
       "    <tr>\n",
       "      <th>3</th>\n",
       "      <td>1.659924</td>\n",
       "      <td>0.735156</td>\n",
       "      <td>-0.210541</td>\n",
       "      <td>-2.534105</td>\n",
       "      <td>b</td>\n",
       "    </tr>\n",
       "    <tr>\n",
       "      <th>4</th>\n",
       "      <td>1.182378</td>\n",
       "      <td>1.599140</td>\n",
       "      <td>-0.301995</td>\n",
       "      <td>1.206648</td>\n",
       "      <td>b</td>\n",
       "    </tr>\n",
       "    <tr>\n",
       "      <th>...</th>\n",
       "      <td>...</td>\n",
       "      <td>...</td>\n",
       "      <td>...</td>\n",
       "      <td>...</td>\n",
       "      <td>...</td>\n",
       "    </tr>\n",
       "    <tr>\n",
       "      <th>295</th>\n",
       "      <td>1.239739</td>\n",
       "      <td>1.572756</td>\n",
       "      <td>0.610548</td>\n",
       "      <td>1.402896</td>\n",
       "      <td>c</td>\n",
       "    </tr>\n",
       "    <tr>\n",
       "      <th>296</th>\n",
       "      <td>-0.528292</td>\n",
       "      <td>3.120873</td>\n",
       "      <td>0.357688</td>\n",
       "      <td>-0.599724</td>\n",
       "      <td>c</td>\n",
       "    </tr>\n",
       "    <tr>\n",
       "      <th>297</th>\n",
       "      <td>0.256334</td>\n",
       "      <td>1.293508</td>\n",
       "      <td>0.023925</td>\n",
       "      <td>-0.996928</td>\n",
       "      <td>b</td>\n",
       "    </tr>\n",
       "    <tr>\n",
       "      <th>298</th>\n",
       "      <td>-0.628451</td>\n",
       "      <td>0.373513</td>\n",
       "      <td>0.038140</td>\n",
       "      <td>2.197234</td>\n",
       "      <td>b</td>\n",
       "    </tr>\n",
       "    <tr>\n",
       "      <th>299</th>\n",
       "      <td>1.250264</td>\n",
       "      <td>1.105026</td>\n",
       "      <td>0.593161</td>\n",
       "      <td>-0.584460</td>\n",
       "      <td>b</td>\n",
       "    </tr>\n",
       "  </tbody>\n",
       "</table>\n",
       "<p>300 rows × 5 columns</p>\n",
       "</div>"
      ],
      "text/plain": [
       "           x1        x2        x3        x4 x5\n",
       "0    1.077412 -0.991094  0.208610 -1.019744  c\n",
       "1   -0.637747 -0.307506 -1.794250  1.189993  b\n",
       "2    1.345143 -1.075281  1.685044  0.167879  b\n",
       "3    1.659924  0.735156 -0.210541 -2.534105  b\n",
       "4    1.182378  1.599140 -0.301995  1.206648  b\n",
       "..        ...       ...       ...       ... ..\n",
       "295  1.239739  1.572756  0.610548  1.402896  c\n",
       "296 -0.528292  3.120873  0.357688 -0.599724  c\n",
       "297  0.256334  1.293508  0.023925 -0.996928  b\n",
       "298 -0.628451  0.373513  0.038140  2.197234  b\n",
       "299  1.250264  1.105026  0.593161 -0.584460  b\n",
       "\n",
       "[300 rows x 5 columns]"
      ]
     },
     "execution_count": 19,
     "metadata": {},
     "output_type": "execute_result"
    }
   ],
   "source": [
    "xinput"
   ]
  },
  {
   "cell_type": "markdown",
   "metadata": {},
   "source": [
    "Next, look at the additional *augmented* features associated with the one-hot encoding of the `x5` categorical variable."
   ]
  },
  {
   "cell_type": "code",
   "execution_count": 20,
   "metadata": {},
   "outputs": [
    {
     "data": {
      "text/html": [
       "<div>\n",
       "<style scoped>\n",
       "    .dataframe tbody tr th:only-of-type {\n",
       "        vertical-align: middle;\n",
       "    }\n",
       "\n",
       "    .dataframe tbody tr th {\n",
       "        vertical-align: top;\n",
       "    }\n",
       "\n",
       "    .dataframe thead th {\n",
       "        text-align: right;\n",
       "    }\n",
       "</style>\n",
       "<table border=\"1\" class=\"dataframe\">\n",
       "  <thead>\n",
       "    <tr style=\"text-align: right;\">\n",
       "      <th></th>\n",
       "      <th>x1</th>\n",
       "      <th>x2</th>\n",
       "      <th>x3</th>\n",
       "      <th>x4</th>\n",
       "      <th>x5_a</th>\n",
       "      <th>x5_b</th>\n",
       "      <th>x5_c</th>\n",
       "    </tr>\n",
       "  </thead>\n",
       "  <tbody>\n",
       "    <tr>\n",
       "      <th>0</th>\n",
       "      <td>1.077412</td>\n",
       "      <td>-0.991094</td>\n",
       "      <td>0.208610</td>\n",
       "      <td>-1.019744</td>\n",
       "      <td>0</td>\n",
       "      <td>0</td>\n",
       "      <td>1</td>\n",
       "    </tr>\n",
       "    <tr>\n",
       "      <th>1</th>\n",
       "      <td>-0.637747</td>\n",
       "      <td>-0.307506</td>\n",
       "      <td>-1.794250</td>\n",
       "      <td>1.189993</td>\n",
       "      <td>0</td>\n",
       "      <td>1</td>\n",
       "      <td>0</td>\n",
       "    </tr>\n",
       "    <tr>\n",
       "      <th>2</th>\n",
       "      <td>1.345143</td>\n",
       "      <td>-1.075281</td>\n",
       "      <td>1.685044</td>\n",
       "      <td>0.167879</td>\n",
       "      <td>0</td>\n",
       "      <td>1</td>\n",
       "      <td>0</td>\n",
       "    </tr>\n",
       "    <tr>\n",
       "      <th>3</th>\n",
       "      <td>1.659924</td>\n",
       "      <td>0.735156</td>\n",
       "      <td>-0.210541</td>\n",
       "      <td>-2.534105</td>\n",
       "      <td>0</td>\n",
       "      <td>1</td>\n",
       "      <td>0</td>\n",
       "    </tr>\n",
       "    <tr>\n",
       "      <th>4</th>\n",
       "      <td>1.182378</td>\n",
       "      <td>1.599140</td>\n",
       "      <td>-0.301995</td>\n",
       "      <td>1.206648</td>\n",
       "      <td>0</td>\n",
       "      <td>1</td>\n",
       "      <td>0</td>\n",
       "    </tr>\n",
       "    <tr>\n",
       "      <th>...</th>\n",
       "      <td>...</td>\n",
       "      <td>...</td>\n",
       "      <td>...</td>\n",
       "      <td>...</td>\n",
       "      <td>...</td>\n",
       "      <td>...</td>\n",
       "      <td>...</td>\n",
       "    </tr>\n",
       "    <tr>\n",
       "      <th>295</th>\n",
       "      <td>1.239739</td>\n",
       "      <td>1.572756</td>\n",
       "      <td>0.610548</td>\n",
       "      <td>1.402896</td>\n",
       "      <td>0</td>\n",
       "      <td>0</td>\n",
       "      <td>1</td>\n",
       "    </tr>\n",
       "    <tr>\n",
       "      <th>296</th>\n",
       "      <td>-0.528292</td>\n",
       "      <td>3.120873</td>\n",
       "      <td>0.357688</td>\n",
       "      <td>-0.599724</td>\n",
       "      <td>0</td>\n",
       "      <td>0</td>\n",
       "      <td>1</td>\n",
       "    </tr>\n",
       "    <tr>\n",
       "      <th>297</th>\n",
       "      <td>0.256334</td>\n",
       "      <td>1.293508</td>\n",
       "      <td>0.023925</td>\n",
       "      <td>-0.996928</td>\n",
       "      <td>0</td>\n",
       "      <td>1</td>\n",
       "      <td>0</td>\n",
       "    </tr>\n",
       "    <tr>\n",
       "      <th>298</th>\n",
       "      <td>-0.628451</td>\n",
       "      <td>0.373513</td>\n",
       "      <td>0.038140</td>\n",
       "      <td>2.197234</td>\n",
       "      <td>0</td>\n",
       "      <td>1</td>\n",
       "      <td>0</td>\n",
       "    </tr>\n",
       "    <tr>\n",
       "      <th>299</th>\n",
       "      <td>1.250264</td>\n",
       "      <td>1.105026</td>\n",
       "      <td>0.593161</td>\n",
       "      <td>-0.584460</td>\n",
       "      <td>0</td>\n",
       "      <td>1</td>\n",
       "      <td>0</td>\n",
       "    </tr>\n",
       "  </tbody>\n",
       "</table>\n",
       "<p>300 rows × 7 columns</p>\n",
       "</div>"
      ],
      "text/plain": [
       "           x1        x2        x3        x4  x5_a  x5_b  x5_c\n",
       "0    1.077412 -0.991094  0.208610 -1.019744     0     0     1\n",
       "1   -0.637747 -0.307506 -1.794250  1.189993     0     1     0\n",
       "2    1.345143 -1.075281  1.685044  0.167879     0     1     0\n",
       "3    1.659924  0.735156 -0.210541 -2.534105     0     1     0\n",
       "4    1.182378  1.599140 -0.301995  1.206648     0     1     0\n",
       "..        ...       ...       ...       ...   ...   ...   ...\n",
       "295  1.239739  1.572756  0.610548  1.402896     0     0     1\n",
       "296 -0.528292  3.120873  0.357688 -0.599724     0     0     1\n",
       "297  0.256334  1.293508  0.023925 -0.996928     0     1     0\n",
       "298 -0.628451  0.373513  0.038140  2.197234     0     1     0\n",
       "299  1.250264  1.105026  0.593161 -0.584460     0     1     0\n",
       "\n",
       "[300 rows x 7 columns]"
      ]
     },
     "execution_count": 20,
     "metadata": {},
     "output_type": "execute_result"
    }
   ],
   "source": [
    "xfeatures_onehot"
   ]
  },
  {
   "cell_type": "markdown",
   "metadata": {},
   "source": [
    "Check the counts associated with the unique values of `x5`."
   ]
  },
  {
   "cell_type": "code",
   "execution_count": 21,
   "metadata": {},
   "outputs": [
    {
     "data": {
      "text/plain": [
       "b    150\n",
       "c     75\n",
       "a     75\n",
       "Name: x5, dtype: int64"
      ]
     },
     "execution_count": 21,
     "metadata": {},
     "output_type": "execute_result"
    }
   ],
   "source": [
    "xinput.x5.value_counts()"
   ]
  },
  {
   "cell_type": "markdown",
   "metadata": {},
   "source": [
    "There are 75 rows associated with the `x5='a'`. Next, look at the counts associated with the unique values of `x5_a` from the one-hot encoded feature array. Notice that there are just two values, 0 and 1. A value of 1 corresponds to `x5='a'`, while a value of 0 corresponds to `x5` **not** equaling `'a'`. Notice that below `x5_a=1` 75 times!"
   ]
  },
  {
   "cell_type": "code",
   "execution_count": 22,
   "metadata": {},
   "outputs": [
    {
     "data": {
      "text/plain": [
       "0    225\n",
       "1     75\n",
       "Name: x5_a, dtype: int64"
      ]
     },
     "execution_count": 22,
     "metadata": {},
     "output_type": "execute_result"
    }
   ],
   "source": [
    "xfeatures_onehot.x5_a.value_counts()"
   ]
  },
  {
   "cell_type": "markdown",
   "metadata": {},
   "source": [
    "To use the dummy variable approach, we tell `pd.get_dummies()` to drop the reference level."
   ]
  },
  {
   "cell_type": "code",
   "execution_count": 23,
   "metadata": {},
   "outputs": [],
   "source": [
    "xfeatures_dummy = pd.get_dummies(xinput, drop_first=True)"
   ]
  },
  {
   "cell_type": "markdown",
   "metadata": {},
   "source": [
    "Notice how with the dummy variable approach there are just 2 additional *augmented* features."
   ]
  },
  {
   "cell_type": "code",
   "execution_count": 24,
   "metadata": {},
   "outputs": [
    {
     "data": {
      "text/html": [
       "<div>\n",
       "<style scoped>\n",
       "    .dataframe tbody tr th:only-of-type {\n",
       "        vertical-align: middle;\n",
       "    }\n",
       "\n",
       "    .dataframe tbody tr th {\n",
       "        vertical-align: top;\n",
       "    }\n",
       "\n",
       "    .dataframe thead th {\n",
       "        text-align: right;\n",
       "    }\n",
       "</style>\n",
       "<table border=\"1\" class=\"dataframe\">\n",
       "  <thead>\n",
       "    <tr style=\"text-align: right;\">\n",
       "      <th></th>\n",
       "      <th>x1</th>\n",
       "      <th>x2</th>\n",
       "      <th>x3</th>\n",
       "      <th>x4</th>\n",
       "      <th>x5_b</th>\n",
       "      <th>x5_c</th>\n",
       "    </tr>\n",
       "  </thead>\n",
       "  <tbody>\n",
       "    <tr>\n",
       "      <th>0</th>\n",
       "      <td>1.077412</td>\n",
       "      <td>-0.991094</td>\n",
       "      <td>0.208610</td>\n",
       "      <td>-1.019744</td>\n",
       "      <td>0</td>\n",
       "      <td>1</td>\n",
       "    </tr>\n",
       "    <tr>\n",
       "      <th>1</th>\n",
       "      <td>-0.637747</td>\n",
       "      <td>-0.307506</td>\n",
       "      <td>-1.794250</td>\n",
       "      <td>1.189993</td>\n",
       "      <td>1</td>\n",
       "      <td>0</td>\n",
       "    </tr>\n",
       "    <tr>\n",
       "      <th>2</th>\n",
       "      <td>1.345143</td>\n",
       "      <td>-1.075281</td>\n",
       "      <td>1.685044</td>\n",
       "      <td>0.167879</td>\n",
       "      <td>1</td>\n",
       "      <td>0</td>\n",
       "    </tr>\n",
       "    <tr>\n",
       "      <th>3</th>\n",
       "      <td>1.659924</td>\n",
       "      <td>0.735156</td>\n",
       "      <td>-0.210541</td>\n",
       "      <td>-2.534105</td>\n",
       "      <td>1</td>\n",
       "      <td>0</td>\n",
       "    </tr>\n",
       "    <tr>\n",
       "      <th>4</th>\n",
       "      <td>1.182378</td>\n",
       "      <td>1.599140</td>\n",
       "      <td>-0.301995</td>\n",
       "      <td>1.206648</td>\n",
       "      <td>1</td>\n",
       "      <td>0</td>\n",
       "    </tr>\n",
       "    <tr>\n",
       "      <th>...</th>\n",
       "      <td>...</td>\n",
       "      <td>...</td>\n",
       "      <td>...</td>\n",
       "      <td>...</td>\n",
       "      <td>...</td>\n",
       "      <td>...</td>\n",
       "    </tr>\n",
       "    <tr>\n",
       "      <th>295</th>\n",
       "      <td>1.239739</td>\n",
       "      <td>1.572756</td>\n",
       "      <td>0.610548</td>\n",
       "      <td>1.402896</td>\n",
       "      <td>0</td>\n",
       "      <td>1</td>\n",
       "    </tr>\n",
       "    <tr>\n",
       "      <th>296</th>\n",
       "      <td>-0.528292</td>\n",
       "      <td>3.120873</td>\n",
       "      <td>0.357688</td>\n",
       "      <td>-0.599724</td>\n",
       "      <td>0</td>\n",
       "      <td>1</td>\n",
       "    </tr>\n",
       "    <tr>\n",
       "      <th>297</th>\n",
       "      <td>0.256334</td>\n",
       "      <td>1.293508</td>\n",
       "      <td>0.023925</td>\n",
       "      <td>-0.996928</td>\n",
       "      <td>1</td>\n",
       "      <td>0</td>\n",
       "    </tr>\n",
       "    <tr>\n",
       "      <th>298</th>\n",
       "      <td>-0.628451</td>\n",
       "      <td>0.373513</td>\n",
       "      <td>0.038140</td>\n",
       "      <td>2.197234</td>\n",
       "      <td>1</td>\n",
       "      <td>0</td>\n",
       "    </tr>\n",
       "    <tr>\n",
       "      <th>299</th>\n",
       "      <td>1.250264</td>\n",
       "      <td>1.105026</td>\n",
       "      <td>0.593161</td>\n",
       "      <td>-0.584460</td>\n",
       "      <td>1</td>\n",
       "      <td>0</td>\n",
       "    </tr>\n",
       "  </tbody>\n",
       "</table>\n",
       "<p>300 rows × 6 columns</p>\n",
       "</div>"
      ],
      "text/plain": [
       "           x1        x2        x3        x4  x5_b  x5_c\n",
       "0    1.077412 -0.991094  0.208610 -1.019744     0     1\n",
       "1   -0.637747 -0.307506 -1.794250  1.189993     1     0\n",
       "2    1.345143 -1.075281  1.685044  0.167879     1     0\n",
       "3    1.659924  0.735156 -0.210541 -2.534105     1     0\n",
       "4    1.182378  1.599140 -0.301995  1.206648     1     0\n",
       "..        ...       ...       ...       ...   ...   ...\n",
       "295  1.239739  1.572756  0.610548  1.402896     0     1\n",
       "296 -0.528292  3.120873  0.357688 -0.599724     0     1\n",
       "297  0.256334  1.293508  0.023925 -0.996928     1     0\n",
       "298 -0.628451  0.373513  0.038140  2.197234     1     0\n",
       "299  1.250264  1.105026  0.593161 -0.584460     1     0\n",
       "\n",
       "[300 rows x 6 columns]"
      ]
     },
     "execution_count": 24,
     "metadata": {},
     "output_type": "execute_result"
    }
   ],
   "source": [
    "xfeatures_dummy"
   ]
  },
  {
   "cell_type": "markdown",
   "metadata": {},
   "source": [
    "If we would use the dummy variable approach with sklearn, we would need to set the `fit_intercept` argument to `True`."
   ]
  },
  {
   "cell_type": "markdown",
   "metadata": {},
   "source": [
    "Let's now confirm we can replicate the sklearn coefficient estimates when we use the one-hot and dummy augmented features from Pandas. Two models are fit below, the first uses the one-hot encoding features, while the second uses the dummy variable features. Notice how with the one-hot encoding setup, `fit_intercept` is `False`, while with the dummy variable approach `fit_intercept=True`."
   ]
  },
  {
   "cell_type": "code",
   "execution_count": 25,
   "metadata": {},
   "outputs": [],
   "source": [
    "sk_fit_onehot = LogisticRegression(penalty='none', solver='lbfgs', fit_intercept=False).fit(xfeatures_onehot.to_numpy(), youtput.to_numpy().ravel())"
   ]
  },
  {
   "cell_type": "code",
   "execution_count": 26,
   "metadata": {},
   "outputs": [],
   "source": [
    "sk_fit_dummy = LogisticRegression(penalty='none', solver='lbfgs', fit_intercept=True).fit(xfeatures_dummy.to_numpy(), youtput.to_numpy().ravel())"
   ]
  },
  {
   "cell_type": "markdown",
   "metadata": {},
   "source": [
    "The Pandas creates one-hot and dummy *augmented* features are positioned at the end of the DataFrame. The one-hot and dummy *augmented* features created by `dmatrices()` are at the beginning of the design matrix. Thus, we need to reorder the coefficient estimates in order to properly compare them to what we estimated previously. The cell below manually defines the reordering for simplicity."
   ]
  },
  {
   "cell_type": "code",
   "execution_count": 27,
   "metadata": {},
   "outputs": [],
   "source": [
    "dummy_order = [4, 5, 0, 1, 2, 3]\n",
    "\n",
    "onehot_order = [4, 5, 6, 0, 1, 2, 3]"
   ]
  },
  {
   "cell_type": "markdown",
   "metadata": {},
   "source": [
    "And now perform the reordering using the `np.take()` function to take specific elements from a NumPy array."
   ]
  },
  {
   "cell_type": "code",
   "execution_count": 28,
   "metadata": {},
   "outputs": [],
   "source": [
    "onehot_coefs = np.take(sk_fit_onehot.coef_.ravel(), onehot_order)\n",
    "\n",
    "dummy_coefs = np.take(sk_fit_dummy.coef_.ravel(), dummy_order)"
   ]
  },
  {
   "cell_type": "markdown",
   "metadata": {},
   "source": [
    "We can now compare the coefficients across all 4 models we fit. As shown below, the continuous feature coefficients are the same (within rounding). The fit from the statsmodels with the formula api (which includes the intercept column of 1s) is the same (within rounding) as the sklearn model that had the Pandas created input features using the dummy variable formulation. The sklearn fit with the one-hot encoded features from dmatrices (intercept column of 1s removed) and the Pandas created one-hot encoded features are also teh same (within rounding)."
   ]
  },
  {
   "cell_type": "code",
   "execution_count": 29,
   "metadata": {},
   "outputs": [
    {
     "data": {
      "text/html": [
       "<div>\n",
       "<style scoped>\n",
       "    .dataframe tbody tr th:only-of-type {\n",
       "        vertical-align: middle;\n",
       "    }\n",
       "\n",
       "    .dataframe tbody tr th {\n",
       "        vertical-align: top;\n",
       "    }\n",
       "\n",
       "    .dataframe thead th {\n",
       "        text-align: right;\n",
       "    }\n",
       "</style>\n",
       "<table border=\"1\" class=\"dataframe\">\n",
       "  <thead>\n",
       "    <tr style=\"text-align: right;\">\n",
       "      <th></th>\n",
       "      <th>statsmodels</th>\n",
       "      <th>sklearn_no_penalty_with_dummy</th>\n",
       "      <th>sklearn_no_penalty_from_dmatrices</th>\n",
       "      <th>sklearn_no_penalty_with_onehot</th>\n",
       "    </tr>\n",
       "  </thead>\n",
       "  <tbody>\n",
       "    <tr>\n",
       "      <th>Intercept</th>\n",
       "      <td>-0.674470</td>\n",
       "      <td>-0.674477</td>\n",
       "      <td>-0.674465</td>\n",
       "      <td>-0.674465</td>\n",
       "    </tr>\n",
       "    <tr>\n",
       "      <th>x5[T.b]</th>\n",
       "      <td>-0.289844</td>\n",
       "      <td>-0.289849</td>\n",
       "      <td>-0.964304</td>\n",
       "      <td>-0.964304</td>\n",
       "    </tr>\n",
       "    <tr>\n",
       "      <th>x5[T.c]</th>\n",
       "      <td>0.310042</td>\n",
       "      <td>0.310028</td>\n",
       "      <td>-0.364434</td>\n",
       "      <td>-0.364434</td>\n",
       "    </tr>\n",
       "    <tr>\n",
       "      <th>x1</th>\n",
       "      <td>0.310394</td>\n",
       "      <td>0.310397</td>\n",
       "      <td>0.310406</td>\n",
       "      <td>0.310406</td>\n",
       "    </tr>\n",
       "    <tr>\n",
       "      <th>x2</th>\n",
       "      <td>-0.579591</td>\n",
       "      <td>-0.579592</td>\n",
       "      <td>-0.579577</td>\n",
       "      <td>-0.579577</td>\n",
       "    </tr>\n",
       "    <tr>\n",
       "      <th>x3</th>\n",
       "      <td>0.113856</td>\n",
       "      <td>0.113863</td>\n",
       "      <td>0.113846</td>\n",
       "      <td>0.113846</td>\n",
       "    </tr>\n",
       "    <tr>\n",
       "      <th>x4</th>\n",
       "      <td>-0.048754</td>\n",
       "      <td>-0.048754</td>\n",
       "      <td>-0.048760</td>\n",
       "      <td>-0.048760</td>\n",
       "    </tr>\n",
       "  </tbody>\n",
       "</table>\n",
       "</div>"
      ],
      "text/plain": [
       "           statsmodels  sklearn_no_penalty_with_dummy  \\\n",
       "Intercept    -0.674470                      -0.674477   \n",
       "x5[T.b]      -0.289844                      -0.289849   \n",
       "x5[T.c]       0.310042                       0.310028   \n",
       "x1            0.310394                       0.310397   \n",
       "x2           -0.579591                      -0.579592   \n",
       "x3            0.113856                       0.113863   \n",
       "x4           -0.048754                      -0.048754   \n",
       "\n",
       "           sklearn_no_penalty_from_dmatrices  sklearn_no_penalty_with_onehot  \n",
       "Intercept                          -0.674465                       -0.674465  \n",
       "x5[T.b]                            -0.964304                       -0.964304  \n",
       "x5[T.c]                            -0.364434                       -0.364434  \n",
       "x1                                  0.310406                        0.310406  \n",
       "x2                                 -0.579577                       -0.579577  \n",
       "x3                                  0.113846                        0.113846  \n",
       "x4                                 -0.048760                       -0.048760  "
      ]
     },
     "execution_count": 29,
     "metadata": {},
     "output_type": "execute_result"
    }
   ],
   "source": [
    "pd.DataFrame({'statsmodels': stats_fit.params,\n",
    "              'sklearn_no_penalty_with_dummy': list(sk_fit_dummy.intercept_) + list(dummy_coefs),\n",
    "             'sklearn_no_penalty_from_dmatrices': list(sk_fit_mle.coef_.ravel()),\n",
    "             'sklearn_no_penalty_with_onehot': list(onehot_coefs)})"
   ]
  },
  {
   "cell_type": "code",
   "execution_count": null,
   "metadata": {},
   "outputs": [],
   "source": []
  }
 ],
 "metadata": {
  "kernelspec": {
   "display_name": "Python 3",
   "language": "python",
   "name": "python3"
  },
  "language_info": {
   "codemirror_mode": {
    "name": "ipython",
    "version": 3
   },
   "file_extension": ".py",
   "mimetype": "text/x-python",
   "name": "python",
   "nbconvert_exporter": "python",
   "pygments_lexer": "ipython3",
   "version": "3.8.5"
  }
 },
 "nbformat": 4,
 "nbformat_minor": 4
}
