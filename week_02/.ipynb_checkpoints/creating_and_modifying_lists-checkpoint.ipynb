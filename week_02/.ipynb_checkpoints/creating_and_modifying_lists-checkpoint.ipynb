{
 "cells": [
  {
   "cell_type": "markdown",
   "metadata": {},
   "source": [
    "## Lists - extra practice\n",
    "\n",
    "We have used several different approaches to creating and adding elements to Python lists. This Jupyter notebook puts a few approaches together for easier comparison."
   ]
  },
  {
   "cell_type": "markdown",
   "metadata": {},
   "source": [
    "### `+` operator\n",
    "\n",
    "We can \"add\" lists together using the `+` operator. In some ways we can view this as \"list addition\". The `+` operator does **not** modify either of the lists that are \"added\" together.\n",
    "\n",
    "Let's create two lists, `x1` and `x2`, in the cell below."
   ]
  },
  {
   "cell_type": "code",
   "execution_count": 1,
   "metadata": {},
   "outputs": [],
   "source": [
    "x1 = [1, 2, 3, 4]\n",
    "\n",
    "x2 = ['one', 'two', 'three', 'four']"
   ]
  },
  {
   "cell_type": "markdown",
   "metadata": {},
   "source": [
    "Let's now \"add\" the lists together and just print the result to the screen."
   ]
  },
  {
   "cell_type": "code",
   "execution_count": 2,
   "metadata": {},
   "outputs": [
    {
     "name": "stdout",
     "output_type": "stream",
     "text": [
      "[1, 2, 3, 4, 'one', 'two', 'three', 'four']\n"
     ]
    }
   ],
   "source": [
    "print( x1 + x2 )"
   ]
  },
  {
   "cell_type": "markdown",
   "metadata": {},
   "source": [
    "If we check the objects in our environment with the magic command `%whos` we will see that only the `x1` and `x2` objects are listed. Adding two lists together does not modify either list."
   ]
  },
  {
   "cell_type": "code",
   "execution_count": 3,
   "metadata": {},
   "outputs": [
    {
     "name": "stdout",
     "output_type": "stream",
     "text": [
      "Variable   Type    Data/Info\n",
      "----------------------------\n",
      "x1         list    n=4\n",
      "x2         list    n=4\n"
     ]
    }
   ],
   "source": [
    "%whos"
   ]
  },
  {
   "cell_type": "markdown",
   "metadata": {},
   "source": [
    "We need to assign the result of the list \"addition\" to a variable in order to store the result for later use."
   ]
  },
  {
   "cell_type": "code",
   "execution_count": 4,
   "metadata": {},
   "outputs": [],
   "source": [
    "y = x1 + x2"
   ]
  },
  {
   "cell_type": "code",
   "execution_count": 5,
   "metadata": {},
   "outputs": [
    {
     "name": "stdout",
     "output_type": "stream",
     "text": [
      "Variable   Type    Data/Info\n",
      "----------------------------\n",
      "x1         list    n=4\n",
      "x2         list    n=4\n",
      "y          list    n=8\n"
     ]
    }
   ],
   "source": [
    "# check with %whos to make sure `y` is now in the environment\n",
    "\n",
    "%whos"
   ]
  },
  {
   "cell_type": "markdown",
   "metadata": {},
   "source": [
    "The `%whos` command shows us that the `y` list has a length of 8. To confirm, the cell prints the contents of `y` to the screen which shows that the results are the same as what we saw previously. The result is just assigned to its own object in memory."
   ]
  },
  {
   "cell_type": "code",
   "execution_count": 6,
   "metadata": {},
   "outputs": [
    {
     "name": "stdout",
     "output_type": "stream",
     "text": [
      "[1, 2, 3, 4, 'one', 'two', 'three', 'four']\n"
     ]
    }
   ],
   "source": [
    "print( y )"
   ]
  },
  {
   "cell_type": "markdown",
   "metadata": {},
   "source": [
    "### `.extend()` method\n",
    "\n",
    "The `.extend()` method is a method associated with list data types. It allows us to modify a list object by adding the user supplied list as additional elements. Being that `.extend()` is a method, it will modify original list, changing it for later use. Let's see how this works by first printing the contents of the `x1` list to the screen and also printing its length."
   ]
  },
  {
   "cell_type": "code",
   "execution_count": 7,
   "metadata": {},
   "outputs": [
    {
     "name": "stdout",
     "output_type": "stream",
     "text": [
      "[1, 2, 3, 4]\n",
      "4\n"
     ]
    }
   ],
   "source": [
    "print( x1 )\n",
    "\n",
    "print( len(x1) )"
   ]
  },
  {
   "cell_type": "markdown",
   "metadata": {},
   "source": [
    "As we can see, `x1` has a length of 4 and contains the integers 1 through 4 as the elements in the list. If we \"extend\" `x1` by adding the `x2` object via the `.extend()` method we will change `x1`. The syntax for calling the `.extend()` on a list object is:\n",
    "\n",
    "` <list name>.extend(<list to add>) `"
   ]
  },
  {
   "cell_type": "markdown",
   "metadata": {},
   "source": [
    "This means to include the contents of `x2` to the `x1` list we will use the following code: `x1.extend(x2)`. After calling the `.extend()` method in the cell below, the length of `x1` and its contents are printed to screen."
   ]
  },
  {
   "cell_type": "code",
   "execution_count": 8,
   "metadata": {},
   "outputs": [
    {
     "name": "stdout",
     "output_type": "stream",
     "text": [
      "8\n",
      "[1, 2, 3, 4, 'one', 'two', 'three', 'four']\n"
     ]
    }
   ],
   "source": [
    "x1.extend(x2)\n",
    "\n",
    "print( len(x1) )\n",
    "\n",
    "print( x1 )"
   ]
  },
  {
   "cell_type": "markdown",
   "metadata": {},
   "source": [
    "As we can see, the `x1` list was modified in place by calling `.extend()`. We did not have to reassign the result to a new variable. The method overwrote `x1` for us. We can double check that is indeed the case by calling `%whos` and checking what's in the environment."
   ]
  },
  {
   "cell_type": "code",
   "execution_count": 9,
   "metadata": {},
   "outputs": [
    {
     "name": "stdout",
     "output_type": "stream",
     "text": [
      "Variable   Type    Data/Info\n",
      "----------------------------\n",
      "x1         list    n=8\n",
      "x2         list    n=4\n",
      "y          list    n=8\n"
     ]
    }
   ],
   "source": [
    "%whos"
   ]
  },
  {
   "cell_type": "markdown",
   "metadata": {},
   "source": [
    "As one final check, let's use the `==` operator to confirm the values of the `x1` and `y` lists are the same. Remember that `y` was created based on the original `x1` list before we \"extended\" it. As shown below the two are equal."
   ]
  },
  {
   "cell_type": "code",
   "execution_count": 10,
   "metadata": {},
   "outputs": [
    {
     "name": "stdout",
     "output_type": "stream",
     "text": [
      "True\n"
     ]
    }
   ],
   "source": [
    "print( x1 == y )"
   ]
  },
  {
   "cell_type": "markdown",
   "metadata": {},
   "source": [
    "### Repeat with the `*` operator\n",
    "\n",
    "Sometimes when I create a list, I want to repeat the contents of a simple list multiple times. The `*` operator provides that functionality. We tell Python how many times to repeat the contents of a list via the following syntax:  \n",
    "\n",
    "` <number of times to repeat> * <list contents to repeat> `\n",
    "\n",
    "Let's see a basic example of this by repeating the values `[1, 2, 3]` a total of 4 times."
   ]
  },
  {
   "cell_type": "code",
   "execution_count": 11,
   "metadata": {},
   "outputs": [
    {
     "data": {
      "text/plain": [
       "[1, 2, 3, 1, 2, 3, 1, 2, 3, 1, 2, 3]"
      ]
     },
     "execution_count": 11,
     "metadata": {},
     "output_type": "execute_result"
    }
   ],
   "source": [
    "4 * [1, 2, 3]"
   ]
  },
  {
   "cell_type": "markdown",
   "metadata": {},
   "source": [
    "The output of the above cell shows that the integers 1, 2, 3 repeat a total of 4 times. However, we did not assign the result to an object. We simply displayed the output to the screen. Let's try this action again, but this time assign the result to the variable `repeated_numbers`. The length of `repeated_numbers` is printed after the list is created."
   ]
  },
  {
   "cell_type": "code",
   "execution_count": 12,
   "metadata": {},
   "outputs": [
    {
     "name": "stdout",
     "output_type": "stream",
     "text": [
      "12\n"
     ]
    }
   ],
   "source": [
    "repeated_numbers = 4 * [1, 2, 3]\n",
    "\n",
    "print( len(repeated_numbers) )"
   ]
  },
  {
   "cell_type": "markdown",
   "metadata": {},
   "source": [
    "It is sometimes useful to be able to determine the unique *set* of values or entries in a list. Since we created the `repeated_numbers` ourselves, we know it simply contains the integers 1, 2, 3. However, the list may be too long to easily print and count visually, or maybe we did not create the list and so we do not know what it completely contains. The `set()` function finds all unique entries/values for us."
   ]
  },
  {
   "cell_type": "code",
   "execution_count": 13,
   "metadata": {},
   "outputs": [
    {
     "data": {
      "text/plain": [
       "{1, 2, 3}"
      ]
     },
     "execution_count": 13,
     "metadata": {},
     "output_type": "execute_result"
    }
   ],
   "source": [
    "set(repeated_numbers)"
   ]
  },
  {
   "cell_type": "markdown",
   "metadata": {},
   "source": [
    "Let's go ahead and assign the result of `set()` to an object and print its type to the screen to show it's a special data type called set."
   ]
  },
  {
   "cell_type": "code",
   "execution_count": 14,
   "metadata": {},
   "outputs": [
    {
     "name": "stdout",
     "output_type": "stream",
     "text": [
      "<class 'set'>\n"
     ]
    }
   ],
   "source": [
    "unique_numbers = set(repeated_numbers)\n",
    "\n",
    "print( type(unique_numbers) )"
   ]
  },
  {
   "cell_type": "markdown",
   "metadata": {},
   "source": [
    "Although we can work with a set like other objects, I like to convert the set data type to a list. This is a personal preference, but I prefer working with lists than sets. We can use the data type conversion function `list()` to accomplish this action."
   ]
  },
  {
   "cell_type": "code",
   "execution_count": 15,
   "metadata": {},
   "outputs": [
    {
     "name": "stdout",
     "output_type": "stream",
     "text": [
      "<class 'list'>\n"
     ]
    }
   ],
   "source": [
    "unique_numbers_list = list(unique_numbers)\n",
    "\n",
    "print( type(unique_numbers_list) )"
   ]
  },
  {
   "cell_type": "markdown",
   "metadata": {},
   "source": [
    "We can use the `.count()` method to count the number of times a specific value is found within a list. Thus, to count the number of times the integer `2` is in the list we type:"
   ]
  },
  {
   "cell_type": "code",
   "execution_count": 16,
   "metadata": {},
   "outputs": [
    {
     "data": {
      "text/plain": [
       "4"
      ]
     },
     "execution_count": 16,
     "metadata": {},
     "output_type": "execute_result"
    }
   ],
   "source": [
    "repeated_numbers.count(2)"
   ]
  },
  {
   "cell_type": "markdown",
   "metadata": {},
   "source": [
    "Since we stored the unique entries in a separate list, `unique_numbers_list`, we can also use that object to programmatically \"pick\" the unique entries we wish to count. For example, the cell below prints the number of times the zeroth unique entry appears in the `repeated_numbers` list.  "
   ]
  },
  {
   "cell_type": "code",
   "execution_count": 17,
   "metadata": {},
   "outputs": [
    {
     "name": "stdout",
     "output_type": "stream",
     "text": [
      "4\n"
     ]
    }
   ],
   "source": [
    "print( repeated_numbers.count( unique_numbers_list[0]) )"
   ]
  },
  {
   "cell_type": "markdown",
   "metadata": {},
   "source": [
    "### Initialize, iterate, and `.append()`\n",
    "\n",
    "In the examples above, we created lists \"manually\" using the `[]`. We then performed actions on those lists several different ways to create new lists. Sometimes, it's not so straightforward how we can create the list all at once. It's easier to iteratively create the elements of the list. Let's first use a for-loop to perform the iteration and add a new element to an existing list with the `.append()` method.\n",
    "\n",
    "As an initial example, let's iteratively include integers from 0 to 4 to a list named `my_list`. When we use the for-loop it is **important** to remember that must first **initialize** an empty list. The cell below initializes the empty list `my_list` with `[]`. The for-loop uses the variable `n` as the iteration variable, and the sequence is generated from the `range()` function. Within the for-loop we use the `.append` method **except** there is a mistake in the cell below. We call `.append` without parentheses. Let's go ahead and run the cell below to see what happens."
   ]
  },
  {
   "cell_type": "code",
   "execution_count": 18,
   "metadata": {},
   "outputs": [
    {
     "name": "stdout",
     "output_type": "stream",
     "text": [
      "[]\n"
     ]
    }
   ],
   "source": [
    "my_list = []\n",
    "\n",
    "print(my_list) # the empty list\n",
    "\n",
    "for n in range(5):\n",
    "    my_list.append"
   ]
  },
  {
   "cell_type": "markdown",
   "metadata": {},
   "source": [
    "The cell executed and now let's print out the `my_list` list and it's length."
   ]
  },
  {
   "cell_type": "code",
   "execution_count": 19,
   "metadata": {},
   "outputs": [
    {
     "name": "stdout",
     "output_type": "stream",
     "text": [
      "0\n",
      "[]\n"
     ]
    }
   ],
   "source": [
    "print( len(my_list) )\n",
    "\n",
    "print( my_list )"
   ]
  },
  {
   "cell_type": "markdown",
   "metadata": {},
   "source": [
    "We see that `my_list` was not modified at all. It's still an empty list of length 0. We can check if the for-loop executed by printing all of the objects in the environment with `%whos`."
   ]
  },
  {
   "cell_type": "code",
   "execution_count": 20,
   "metadata": {},
   "outputs": [
    {
     "name": "stdout",
     "output_type": "stream",
     "text": [
      "Variable              Type    Data/Info\n",
      "---------------------------------------\n",
      "my_list               list    n=0\n",
      "n                     int     4\n",
      "repeated_numbers      list    n=12\n",
      "unique_numbers        set     {1, 2, 3}\n",
      "unique_numbers_list   list    n=3\n",
      "x1                    list    n=8\n",
      "x2                    list    n=4\n",
      "y                     list    n=8\n"
     ]
    }
   ],
   "source": [
    "%whos"
   ]
  },
  {
   "cell_type": "markdown",
   "metadata": {},
   "source": [
    "We see that `n` does indeed exist in the environment and it has a value of `4`. Thus, the for-loop did iterate over all 5 integers generated from `range(5)` (remember than `range(start,end)` creates a generating sequence from `start` to `end-1`). \n",
    "\n",
    "Methods are similar to functions in that we must include the parentheses after their name in order to execute them. So the for-loop simply did not do anything to the `my_list` object. Let's see what happens if we run our for-loop again but this time with `.append()`."
   ]
  },
  {
   "cell_type": "code",
   "execution_count": 21,
   "metadata": {},
   "outputs": [
    {
     "ename": "TypeError",
     "evalue": "append() takes exactly one argument (0 given)",
     "output_type": "error",
     "traceback": [
      "\u001b[1;31m---------------------------------------------------------------------------\u001b[0m",
      "\u001b[1;31mTypeError\u001b[0m                                 Traceback (most recent call last)",
      "\u001b[1;32m<ipython-input-21-44e0bb5dbe82>\u001b[0m in \u001b[0;36m<module>\u001b[1;34m\u001b[0m\n\u001b[0;32m      2\u001b[0m \u001b[1;33m\u001b[0m\u001b[0m\n\u001b[0;32m      3\u001b[0m \u001b[1;32mfor\u001b[0m \u001b[0mn\u001b[0m \u001b[1;32min\u001b[0m \u001b[0mrange\u001b[0m\u001b[1;33m(\u001b[0m\u001b[1;36m5\u001b[0m\u001b[1;33m)\u001b[0m\u001b[1;33m:\u001b[0m\u001b[1;33m\u001b[0m\u001b[1;33m\u001b[0m\u001b[0m\n\u001b[1;32m----> 4\u001b[1;33m     \u001b[0mmy_list\u001b[0m\u001b[1;33m.\u001b[0m\u001b[0mappend\u001b[0m\u001b[1;33m(\u001b[0m\u001b[1;33m)\u001b[0m\u001b[1;33m\u001b[0m\u001b[1;33m\u001b[0m\u001b[0m\n\u001b[0m",
      "\u001b[1;31mTypeError\u001b[0m: append() takes exactly one argument (0 given)"
     ]
    }
   ],
   "source": [
    "# my_list already exists, do not need to initialize\n",
    "\n",
    "for n in range(5):\n",
    "    my_list.append()"
   ]
  },
  {
   "cell_type": "markdown",
   "metadata": {},
   "source": [
    "We got an error! As the error message states, `.append()` takes exactly 1 argument and 0 arguments were given. So the `.append()` does not know how to modify the `my_list` object. Let's check the objects in the environment again to confirm the iteration failed on the initial (zeroth) iteration through the for-loop."
   ]
  },
  {
   "cell_type": "code",
   "execution_count": 22,
   "metadata": {},
   "outputs": [
    {
     "name": "stdout",
     "output_type": "stream",
     "text": [
      "Variable              Type    Data/Info\n",
      "---------------------------------------\n",
      "my_list               list    n=0\n",
      "n                     int     0\n",
      "repeated_numbers      list    n=12\n",
      "unique_numbers        set     {1, 2, 3}\n",
      "unique_numbers_list   list    n=3\n",
      "x1                    list    n=8\n",
      "x2                    list    n=4\n",
      "y                     list    n=8\n"
     ]
    }
   ],
   "source": [
    "%whos"
   ]
  },
  {
   "cell_type": "markdown",
   "metadata": {},
   "source": [
    "As we see above, `n` is equal to 0. So the for-loop did error out on the initial pass and `my_list` is still length 0."
   ]
  },
  {
   "cell_type": "markdown",
   "metadata": {},
   "source": [
    "So to iteratively include integers from `range()` to our `my_list` object we must pass in the `n` variable as the argument to the `.append()` method. The cell below prints `my_list` before running the for-loop, executes the for-loop, then prints `my_list` again after the for-loop completes. As we see below, `my_list` now contains the integers 0 through 4."
   ]
  },
  {
   "cell_type": "code",
   "execution_count": 23,
   "metadata": {},
   "outputs": [
    {
     "name": "stdout",
     "output_type": "stream",
     "text": [
      "[]\n",
      "[0, 1, 2, 3, 4]\n"
     ]
    }
   ],
   "source": [
    "print(my_list)\n",
    "\n",
    "for n in range(5):\n",
    "    my_list.append(n)\n",
    "#print out the final list\n",
    "print(my_list)"
   ]
  },
  {
   "cell_type": "markdown",
   "metadata": {},
   "source": [
    "### List comprehension\n",
    "\n",
    "The for-loop is straightforward to use, but it does require us to always remember to initialize the object before we \"fill in\" the elements. The list comprehension is an approach that performs all actions within a single line of code and we do not need to first initialize the object. The basic syntax for the list comprehension is:  \n",
    "\n",
    "` <output variable> = [ <action to perform with iteration variable> for <iteration variable> in <sequence> ] `\n",
    "\n",
    "Let's go ahead and create the list of integers from 0 to 4 iteratively using the list comprehension. As shown in the cell below, the \"action\" we are performing here is just to assign the iterating variable `n` to an element in our list. So in the list comprehension we can simply write `n` in place of a more complex action."
   ]
  },
  {
   "cell_type": "code",
   "execution_count": 24,
   "metadata": {},
   "outputs": [
    {
     "name": "stdout",
     "output_type": "stream",
     "text": [
      "[0, 1, 2, 3, 4]\n"
     ]
    }
   ],
   "source": [
    "my_list_comp = [ n for n in range(5) ]\n",
    "\n",
    "print( my_list_comp )"
   ]
  },
  {
   "cell_type": "markdown",
   "metadata": {},
   "source": [
    "In truth, we don't need the list comprehension if our goal is to just have a list of integers. We can use the data type conversion function `list()` to convert the range object to a list. The cell below creates the objects `my_range_list` and by converting a range object to a list and prints the contents of the list to the screen as well as the data type."
   ]
  },
  {
   "cell_type": "code",
   "execution_count": 25,
   "metadata": {},
   "outputs": [
    {
     "name": "stdout",
     "output_type": "stream",
     "text": [
      "<class 'list'>\n"
     ]
    }
   ],
   "source": [
    "my_range_list = list(range(5))\n",
    "\n",
    "print(type(my_range_list))"
   ]
  },
  {
   "cell_type": "code",
   "execution_count": 26,
   "metadata": {},
   "outputs": [
    {
     "name": "stdout",
     "output_type": "stream",
     "text": [
      "[0, 1, 2, 3, 4]\n"
     ]
    }
   ],
   "source": [
    "print( my_range_list)"
   ]
  },
  {
   "cell_type": "markdown",
   "metadata": {},
   "source": [
    "List comprehensions are useful when we have a slightly more complex action we wish to store to each element in a list. For example, let's say we want to store the data type associated with the elements of the list `y` to the object `y_list_types`. Each element in `y_list_types` will store the data type associated with the corresponding element in `y`. As a reminder of the elements in `y`, it consists of integers and strings:"
   ]
  },
  {
   "cell_type": "code",
   "execution_count": 27,
   "metadata": {},
   "outputs": [
    {
     "name": "stdout",
     "output_type": "stream",
     "text": [
      "[1, 2, 3, 4, 'one', 'two', 'three', 'four']\n"
     ]
    }
   ],
   "source": [
    "print( y )"
   ]
  },
  {
   "cell_type": "markdown",
   "metadata": {},
   "source": [
    "Let's go ahead and assign the data type for each element to the `y_list_types` object using a list comprehension. The iterating variable in the cell below is the element from the `y` list. So we are iterating over the `y` list directly and not iterating over the index."
   ]
  },
  {
   "cell_type": "code",
   "execution_count": 28,
   "metadata": {},
   "outputs": [],
   "source": [
    "y_list_types = [ type(element) for element in y ]"
   ]
  },
  {
   "cell_type": "markdown",
   "metadata": {},
   "source": [
    "If we print the contents of `y_list_types` to the screen we see it has the same length as the `y` list. It also transitions from integers to strings between the third and fourth elements, which corresponds to when the elements of `y` transition from `4` to `'one'`."
   ]
  },
  {
   "cell_type": "code",
   "execution_count": 29,
   "metadata": {},
   "outputs": [
    {
     "name": "stdout",
     "output_type": "stream",
     "text": [
      "[<class 'int'>, <class 'int'>, <class 'int'>, <class 'int'>, <class 'str'>, <class 'str'>, <class 'str'>, <class 'str'>]\n"
     ]
    }
   ],
   "source": [
    "print( y_list_types )"
   ]
  },
  {
   "cell_type": "code",
   "execution_count": null,
   "metadata": {},
   "outputs": [],
   "source": []
  }
 ],
 "metadata": {
  "kernelspec": {
   "display_name": "Python 3",
   "language": "python",
   "name": "python3"
  },
  "language_info": {
   "codemirror_mode": {
    "name": "ipython",
    "version": 3
   },
   "file_extension": ".py",
   "mimetype": "text/x-python",
   "name": "python",
   "nbconvert_exporter": "python",
   "pygments_lexer": "ipython3",
   "version": "3.8.3"
  }
 },
 "nbformat": 4,
 "nbformat_minor": 4
}
