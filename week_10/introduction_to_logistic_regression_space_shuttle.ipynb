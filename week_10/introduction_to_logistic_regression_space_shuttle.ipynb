{
 "cells": [
  {
   "cell_type": "markdown",
   "metadata": {},
   "source": [
    "## Introduce logistic regression\n",
    "Regression is concerned with predicting or modeling a continuous response. Classification on the other hand, is interested with classifying a categorical variable. Binary classification is focused on classifying an outcome into one of two possible states. This notebook introduces binary classification with logistic regression, a type of generalized linear model (GLM). Although we will not discuss the mathematical details that go on behind the scenes, we will consider the similarities to and difference between the linear model. \n",
    "\n",
    "We worked with synthetic or simulated data when we introduced regression. We will take a different approach with classification. We will instead consider a real data example that had serious consequences. We will work the Space Shuttle Challenger data set. If you are not familiar with Space Shuttle Challenger, the vehicle exploded mid launch a cold January morning in 1986 due to an O-ring failure. All 7 astronauts on board died.  \n",
    "\n",
    "A data set exists that consists of previous O-ring damage events, as well as the ambient (outside) air temperature. In this notebook, we will introduce logistic regression mostly focusing on fitting the model and predicting the failure probability."
   ]
  },
  {
   "cell_type": "markdown",
   "metadata": {},
   "source": [
    "## Import modules"
   ]
  },
  {
   "cell_type": "code",
   "execution_count": 1,
   "metadata": {},
   "outputs": [],
   "source": [
    "import numpy as np\n",
    "import pandas as pd\n",
    "import matplotlib.pyplot as plt\n",
    "\n",
    "import seaborn as sns"
   ]
  },
  {
   "cell_type": "markdown",
   "metadata": {},
   "source": [
    "We will fit the model using the `statsmodels` formula interface."
   ]
  },
  {
   "cell_type": "code",
   "execution_count": 2,
   "metadata": {},
   "outputs": [],
   "source": [
    "import statsmodels.formula.api as smf"
   ]
  },
  {
   "cell_type": "markdown",
   "metadata": {},
   "source": [
    "## Read in the data\n",
    "We will use the data set prepared for the \"Bayesian Methods for Hackers\" book, which is an excellent introduction to Bayesian modeling in Python. Please see the book's Github page if you would like to an introduction to Bayesian data analysis.  \n",
    "\n",
    "https://github.com/CamDavidsonPilon/Probabilistic-Programming-and-Bayesian-Methods-for-Hackers"
   ]
  },
  {
   "cell_type": "code",
   "execution_count": 3,
   "metadata": {},
   "outputs": [],
   "source": [
    "# read in the data\n",
    "\n",
    "data_url = 'https://raw.githubusercontent.com/CamDavidsonPilon/Probabilistic-Programming-and-Bayesian-Methods-for-Hackers/master/Chapter2_MorePyMC/data/challenger_data.csv'\n",
    "\n",
    "space_shuttle = pd.read_csv(data_url)"
   ]
  },
  {
   "cell_type": "markdown",
   "metadata": {},
   "source": [
    "### Data preparation"
   ]
  },
  {
   "cell_type": "markdown",
   "metadata": {},
   "source": [
    "Check the `.info()` method and display the `.head()` and `.tail()` of the data set."
   ]
  },
  {
   "cell_type": "code",
   "execution_count": 4,
   "metadata": {},
   "outputs": [
    {
     "name": "stdout",
     "output_type": "stream",
     "text": [
      "<class 'pandas.core.frame.DataFrame'>\n",
      "RangeIndex: 25 entries, 0 to 24\n",
      "Data columns (total 3 columns):\n",
      " #   Column           Non-Null Count  Dtype \n",
      "---  ------           --------------  ----- \n",
      " 0   Date             25 non-null     object\n",
      " 1   Temperature      25 non-null     int64 \n",
      " 2   Damage Incident  24 non-null     object\n",
      "dtypes: int64(1), object(2)\n",
      "memory usage: 728.0+ bytes\n"
     ]
    }
   ],
   "source": [
    "space_shuttle.info()"
   ]
  },
  {
   "cell_type": "code",
   "execution_count": 5,
   "metadata": {},
   "outputs": [
    {
     "data": {
      "text/html": [
       "<div>\n",
       "<style scoped>\n",
       "    .dataframe tbody tr th:only-of-type {\n",
       "        vertical-align: middle;\n",
       "    }\n",
       "\n",
       "    .dataframe tbody tr th {\n",
       "        vertical-align: top;\n",
       "    }\n",
       "\n",
       "    .dataframe thead th {\n",
       "        text-align: right;\n",
       "    }\n",
       "</style>\n",
       "<table border=\"1\" class=\"dataframe\">\n",
       "  <thead>\n",
       "    <tr style=\"text-align: right;\">\n",
       "      <th></th>\n",
       "      <th>Date</th>\n",
       "      <th>Temperature</th>\n",
       "      <th>Damage Incident</th>\n",
       "    </tr>\n",
       "  </thead>\n",
       "  <tbody>\n",
       "    <tr>\n",
       "      <th>0</th>\n",
       "      <td>04/12/1981</td>\n",
       "      <td>66</td>\n",
       "      <td>0</td>\n",
       "    </tr>\n",
       "    <tr>\n",
       "      <th>1</th>\n",
       "      <td>11/12/1981</td>\n",
       "      <td>70</td>\n",
       "      <td>1</td>\n",
       "    </tr>\n",
       "    <tr>\n",
       "      <th>2</th>\n",
       "      <td>3/22/82</td>\n",
       "      <td>69</td>\n",
       "      <td>0</td>\n",
       "    </tr>\n",
       "    <tr>\n",
       "      <th>3</th>\n",
       "      <td>6/27/82</td>\n",
       "      <td>80</td>\n",
       "      <td>NaN</td>\n",
       "    </tr>\n",
       "    <tr>\n",
       "      <th>4</th>\n",
       "      <td>01/11/1982</td>\n",
       "      <td>68</td>\n",
       "      <td>0</td>\n",
       "    </tr>\n",
       "  </tbody>\n",
       "</table>\n",
       "</div>"
      ],
      "text/plain": [
       "         Date  Temperature Damage Incident\n",
       "0  04/12/1981           66               0\n",
       "1  11/12/1981           70               1\n",
       "2     3/22/82           69               0\n",
       "3     6/27/82           80             NaN\n",
       "4  01/11/1982           68               0"
      ]
     },
     "execution_count": 5,
     "metadata": {},
     "output_type": "execute_result"
    }
   ],
   "source": [
    "space_shuttle.head()"
   ]
  },
  {
   "cell_type": "code",
   "execution_count": 6,
   "metadata": {},
   "outputs": [
    {
     "data": {
      "text/html": [
       "<div>\n",
       "<style scoped>\n",
       "    .dataframe tbody tr th:only-of-type {\n",
       "        vertical-align: middle;\n",
       "    }\n",
       "\n",
       "    .dataframe tbody tr th {\n",
       "        vertical-align: top;\n",
       "    }\n",
       "\n",
       "    .dataframe thead th {\n",
       "        text-align: right;\n",
       "    }\n",
       "</style>\n",
       "<table border=\"1\" class=\"dataframe\">\n",
       "  <thead>\n",
       "    <tr style=\"text-align: right;\">\n",
       "      <th></th>\n",
       "      <th>Date</th>\n",
       "      <th>Temperature</th>\n",
       "      <th>Damage Incident</th>\n",
       "    </tr>\n",
       "  </thead>\n",
       "  <tbody>\n",
       "    <tr>\n",
       "      <th>20</th>\n",
       "      <td>10/03/1985</td>\n",
       "      <td>79</td>\n",
       "      <td>0</td>\n",
       "    </tr>\n",
       "    <tr>\n",
       "      <th>21</th>\n",
       "      <td>10/30/85</td>\n",
       "      <td>75</td>\n",
       "      <td>1</td>\n",
       "    </tr>\n",
       "    <tr>\n",
       "      <th>22</th>\n",
       "      <td>11/26/85</td>\n",
       "      <td>76</td>\n",
       "      <td>0</td>\n",
       "    </tr>\n",
       "    <tr>\n",
       "      <th>23</th>\n",
       "      <td>01/12/1986</td>\n",
       "      <td>58</td>\n",
       "      <td>1</td>\n",
       "    </tr>\n",
       "    <tr>\n",
       "      <th>24</th>\n",
       "      <td>1/28/86</td>\n",
       "      <td>31</td>\n",
       "      <td>Challenger Accident</td>\n",
       "    </tr>\n",
       "  </tbody>\n",
       "</table>\n",
       "</div>"
      ],
      "text/plain": [
       "          Date  Temperature      Damage Incident\n",
       "20  10/03/1985           79                    0\n",
       "21    10/30/85           75                    1\n",
       "22    11/26/85           76                    0\n",
       "23  01/12/1986           58                    1\n",
       "24     1/28/86           31  Challenger Accident"
      ]
     },
     "execution_count": 6,
     "metadata": {},
     "output_type": "execute_result"
    }
   ],
   "source": [
    "space_shuttle.tail()"
   ]
  },
  {
   "cell_type": "markdown",
   "metadata": {},
   "source": [
    "It looks like the `Damage Incident` variable is mostly 0's and 1's. Let's confirm that is the case with the `.value_counts()` method."
   ]
  },
  {
   "cell_type": "code",
   "execution_count": 7,
   "metadata": {},
   "outputs": [
    {
     "data": {
      "text/plain": [
       "0                      16\n",
       "1                       7\n",
       "Challenger Accident     1\n",
       "Name: Damage Incident, dtype: int64"
      ]
     },
     "execution_count": 7,
     "metadata": {},
     "output_type": "execute_result"
    }
   ],
   "source": [
    "space_shuttle['Damage Incident'].value_countsnts()"
   ]
  },
  {
   "cell_type": "markdown",
   "metadata": {},
   "source": [
    "The last row corresponds to the accident and is labeled as such, rather than 0's and 1's as in the other rows. We will work with all other observations. Also, we could visually see that a missing value is present. Let's confirm the number of missings per column."
   ]
  },
  {
   "cell_type": "code",
   "execution_count": 10,
   "metadata": {},
   "outputs": [
    {
     "data": {
      "text/plain": [
       "Date               0\n",
       "Temperature        0\n",
       "Damage Incident    1\n",
       "dtype: int64"
      ]
     },
     "execution_count": 10,
     "metadata": {},
     "output_type": "execute_result"
    }
   ],
   "source": [
    "space_shuttle.isna().sum()"
   ]
  },
  {
   "cell_type": "markdown",
   "metadata": {},
   "source": [
    "The cell below creates the clean data set by first removing the missing, and then removes the last row. The subsetting is performed by retaining just the 0's and 1's. The cleaned and ready data set is assigned to the `df` object below. "
   ]
  },
  {
   "cell_type": "code",
   "execution_count": 11,
   "metadata": {},
   "outputs": [],
   "source": [
    "clean_df = space_shuttle.dropna().copy()\n",
    "\n",
    "df = clean_df.loc[ clean_df['Damage Incident'].isin(['0', '1'])].copy()"
   ]
  },
  {
   "cell_type": "markdown",
   "metadata": {},
   "source": [
    "Let's check the data type associated with each column in the data set."
   ]
  },
  {
   "cell_type": "code",
   "execution_count": 12,
   "metadata": {},
   "outputs": [
    {
     "data": {
      "text/plain": [
       "Date               object\n",
       "Temperature         int64\n",
       "Damage Incident    object\n",
       "dtype: object"
      ]
     },
     "execution_count": 12,
     "metadata": {},
     "output_type": "execute_result"
    }
   ],
   "source": [
    "df.dtypes"
   ]
  },
  {
   "cell_type": "markdown",
   "metadata": {},
   "source": [
    "The `Damage Incident` column is a Pandas object type (string), even though it now only contains 0's and 1's:  "
   ]
  },
  {
   "cell_type": "code",
   "execution_count": 13,
   "metadata": {},
   "outputs": [
    {
     "data": {
      "text/plain": [
       "0    16\n",
       "1     7\n",
       "Name: Damage Incident, dtype: int64"
      ]
     },
     "execution_count": 13,
     "metadata": {},
     "output_type": "execute_result"
    }
   ],
   "source": [
    "df['Damage Incident'].value_counts()"
   ]
  },
  {
   "cell_type": "markdown",
   "metadata": {},
   "source": [
    "Let's convert it to an integer, but assign it to a new column, `y`."
   ]
  },
  {
   "cell_type": "code",
   "execution_count": 14,
   "metadata": {},
   "outputs": [],
   "source": [
    "df['y'] = df['Damage Incident'].astype('int64')"
   ]
  },
  {
   "cell_type": "markdown",
   "metadata": {},
   "source": [
    "Even though the `y` and `Damage Incident` columns look to be the same:  "
   ]
  },
  {
   "cell_type": "code",
   "execution_count": 15,
   "metadata": {},
   "outputs": [
    {
     "data": {
      "text/html": [
       "<div>\n",
       "<style scoped>\n",
       "    .dataframe tbody tr th:only-of-type {\n",
       "        vertical-align: middle;\n",
       "    }\n",
       "\n",
       "    .dataframe tbody tr th {\n",
       "        vertical-align: top;\n",
       "    }\n",
       "\n",
       "    .dataframe thead th {\n",
       "        text-align: right;\n",
       "    }\n",
       "</style>\n",
       "<table border=\"1\" class=\"dataframe\">\n",
       "  <thead>\n",
       "    <tr style=\"text-align: right;\">\n",
       "      <th></th>\n",
       "      <th>Date</th>\n",
       "      <th>Temperature</th>\n",
       "      <th>Damage Incident</th>\n",
       "      <th>y</th>\n",
       "    </tr>\n",
       "  </thead>\n",
       "  <tbody>\n",
       "    <tr>\n",
       "      <th>0</th>\n",
       "      <td>04/12/1981</td>\n",
       "      <td>66</td>\n",
       "      <td>0</td>\n",
       "      <td>0</td>\n",
       "    </tr>\n",
       "    <tr>\n",
       "      <th>1</th>\n",
       "      <td>11/12/1981</td>\n",
       "      <td>70</td>\n",
       "      <td>1</td>\n",
       "      <td>1</td>\n",
       "    </tr>\n",
       "    <tr>\n",
       "      <th>2</th>\n",
       "      <td>3/22/82</td>\n",
       "      <td>69</td>\n",
       "      <td>0</td>\n",
       "      <td>0</td>\n",
       "    </tr>\n",
       "    <tr>\n",
       "      <th>4</th>\n",
       "      <td>01/11/1982</td>\n",
       "      <td>68</td>\n",
       "      <td>0</td>\n",
       "      <td>0</td>\n",
       "    </tr>\n",
       "    <tr>\n",
       "      <th>5</th>\n",
       "      <td>04/04/1983</td>\n",
       "      <td>67</td>\n",
       "      <td>0</td>\n",
       "      <td>0</td>\n",
       "    </tr>\n",
       "  </tbody>\n",
       "</table>\n",
       "</div>"
      ],
      "text/plain": [
       "         Date  Temperature Damage Incident  y\n",
       "0  04/12/1981           66               0  0\n",
       "1  11/12/1981           70               1  1\n",
       "2     3/22/82           69               0  0\n",
       "4  01/11/1982           68               0  0\n",
       "5  04/04/1983           67               0  0"
      ]
     },
     "execution_count": 15,
     "metadata": {},
     "output_type": "execute_result"
    }
   ],
   "source": [
    "df.head()"
   ]
  },
  {
   "cell_type": "markdown",
   "metadata": {},
   "source": [
    "They are different data types:"
   ]
  },
  {
   "cell_type": "code",
   "execution_count": 16,
   "metadata": {},
   "outputs": [
    {
     "data": {
      "text/plain": [
       "Date               object\n",
       "Temperature         int64\n",
       "Damage Incident    object\n",
       "y                   int64\n",
       "dtype: object"
      ]
     },
     "execution_count": 16,
     "metadata": {},
     "output_type": "execute_result"
    }
   ],
   "source": [
    "df.dtypes"
   ]
  },
  {
   "cell_type": "markdown",
   "metadata": {},
   "source": [
    "## Binary outcomes\n",
    "The response, `y`, is a binary variable. It can take on just one of two possible states. However, we have encoded the variable to be an integer, 0 or 1. The value of 1 corresponds to a failure event, and the value of 0 represents the failure did not happen. The 0/1 encoding allows us to work with any generic binary outcome, such as Hit/Out, Pass/Fail, True/False, Positive/Negative, etc... We can think of it as we observed 1 event or we saw 0 events. The total number of events is the sum of `y` since we are summing together 0's and 1's (a zero does not contribute to the count).  \n",
    "\n",
    "When building a classifier, it is important to consider the empirical or observed fraction of events. We can calculate that simply as the number of events out of the total number of observations. The empirical fraction can be calculated simply using the `.mean()` method since the mean is the sum (of 0's and 1's) divided by the number of observations.  "
   ]
  },
  {
   "cell_type": "code",
   "execution_count": 17,
   "metadata": {},
   "outputs": [
    {
     "data": {
      "text/plain": [
       "0.30434782608695654"
      ]
     },
     "execution_count": 17,
     "metadata": {},
     "output_type": "execute_result"
    }
   ],
   "source": [
    "df.y.mean()"
   ]
  },
  {
   "cell_type": "markdown",
   "metadata": {},
   "source": [
    "To check, let's display the number of rows per unique value of `y` again."
   ]
  },
  {
   "cell_type": "code",
   "execution_count": 18,
   "metadata": {},
   "outputs": [
    {
     "data": {
      "text/plain": [
       "0    16\n",
       "1     7\n",
       "Name: y, dtype: int64"
      ]
     },
     "execution_count": 18,
     "metadata": {},
     "output_type": "execute_result"
    }
   ],
   "source": [
    "df.y.value_counts()"
   ]
  },
  {
   "cell_type": "markdown",
   "metadata": {},
   "source": [
    "As we see above there are 7 events and 16 non-events (non-damage cases in this application). The fraction of observations of the damage event is just the number of events divided by the number of observations (the sum of events and non-events). The value below is identical to the result of `df.y.mean()` given previously."
   ]
  },
  {
   "cell_type": "code",
   "execution_count": 20,
   "metadata": {},
   "outputs": [
    {
     "data": {
      "text/plain": [
       "0.30434782608695654"
      ]
     },
     "execution_count": 20,
     "metadata": {},
     "output_type": "execute_result"
    }
   ],
   "source": [
    "7 / (7 + 16)"
   ]
  },
  {
   "cell_type": "markdown",
   "metadata": {},
   "source": [
    "Our goal is study the behavior of the binary outcome with respect to the `Temperature`. So let's visualize this with a scatter plot."
   ]
  },
  {
   "cell_type": "code",
   "execution_count": 21,
   "metadata": {},
   "outputs": [
    {
     "data": {
      "image/png": "[encoded data removed]",
      "text/plain": [
       "<Figure size 720x360 with 1 Axes>"
      ]
     },
     "metadata": {},
     "output_type": "display_data"
    }
   ],
   "source": [
    "sns.set_style('whitegrid')\n",
    "\n",
    "sns.relplot(data = df, x='Temperature', y='y', s = 200, alpha = 0.5, aspect=2)\n",
    "\n",
    "plt.show()"
   ]
  },
  {
   "cell_type": "markdown",
   "metadata": {},
   "source": [
    "The binary outcome can only be 0 or 1. Thus, it can be more difficult to interpert the above figure, however several trends should stand out. First, no observations of `y=0` occur for `Temperature < 65`. This suggests that the event probability could be higher for lower values of `Temperature` than for higher values of temperature. We have to be careful though since we should also consider the number of observations, but modeling can help us understand the trends within the data."
   ]
  },
  {
   "cell_type": "markdown",
   "metadata": {},
   "source": [
    "## Logistic regression\n",
    "Binary classifiers classify observations into one of two possible states. With our current applications those states are either fail, `y=1`, or non-failure, `y=0`. Most binary classifiers however do not model or directly classify the outcome. Most binary classifiers predict the probability of the event. Next week we will discuss how that predicted probability is converted to a classification.  \n",
    "\n",
    "Predicting or modeling a probability is challenging. We cannot use standard regression techniques that we discussed with the linear model. A probability value is bounded between 0 and 1 (it is a fraction). We cannot have a probability of 2 or a probability of -1.5. Thus, we cannot simply use the linear relationship we introduced with regression:  \n",
    "\n",
    "$$ \\mathrm{trend} = \\beta_0 + \\beta_1 x $$\n",
    "\n",
    "Instead, we need to perform a transformation. Specifically, we will use the *logit* transformation which places the model on the *log odds ratio* rather than the probability directly:  \n",
    "\n",
    "$$ \\mathrm{logodds} = \\beta_0 + \\beta_1 x $$"
   ]
  },
  {
   "cell_type": "markdown",
   "metadata": {},
   "source": [
    "The log odds ratio is the natural logarithm of the odds ratio, where the odds ratio (OR) is defined as:  \n",
    "\n",
    "$$ \\mathrm{OR} = \\frac{ \\mathrm{Probability} }{1 - \\mathrm{Probability} } $$"
   ]
  },
  {
   "cell_type": "markdown",
   "metadata": {},
   "source": [
    "Thus, the model we will work with simply states that the log-odds ratio is equal to a function of the input."
   ]
  },
  {
   "cell_type": "markdown",
   "metadata": {},
   "source": [
    "$$ \\log \\left(\\frac{\\mathrm{Probability}}{1 - \\mathrm{Probability} } \\right) = \\beta_0 + \\beta_1 x$$"
   ]
  },
  {
   "cell_type": "markdown",
   "metadata": {},
   "source": [
    "The log-odds is also know as the *logit* function. The model is typically named for the inverse or reciprical operation, the **logistic**. Thus, logistic regression gets its name because we are placing a regression model on the log-odds ratio of a binary outcome. The application of logistic regression is for classifying a binary outcome, and next week discuss how to convert from the probability to a classification."
   ]
  },
  {
   "cell_type": "markdown",
   "metadata": {},
   "source": [
    "### Model fitting"
   ]
  },
  {
   "cell_type": "markdown",
   "metadata": {},
   "source": [
    "Although the formulation is different from linear regression, we will still estimate the coefficients (the intercept and slope) by minimizing the error. The formulation of the error is typically referred to as the **loss** function. We will not discuss the details of the fitting process, but conceptually you can think of it as an error exists between the \"fitted\" probability  value and the observed outcome. That error is largest when the probability is \"inconsistent\" with the observation. Thus, if the model predicts the event will occur with 80% probability, and yet we routinely do not observe the event, such *misclassifications* will result in poor model performance. We estimate the coefficients (the intercept and the slope) by finding the values that given the predicted probability that is more consistent with the observations."
   ]
  },
  {
   "cell_type": "markdown",
   "metadata": {},
   "source": [
    "In our current application, we want wish to model the log-odds ratio of the O-ring failure with respect to the ambient temperature. Thus we want a model of the form shown below:  \n",
    "\n",
    "$$ \\log \\left(\\frac{\\mathrm{Probability}}{1 - \\mathrm{Probability} } \\right) = \\beta_0 + \\beta_1 \\cdot \\mathrm{Temperature}$$  \n",
    "\n",
    "The unknown coefficients we must learn are the intercept and slope applied to the input `Temperature`. However, rather than working `Temperature` directly we will first standardize the variable by subtracting out the mean and dividing by the standard deviation. The cell below manually performs the standardization because it is simple in this application. When we have many input features doing so will be tedious. However, we already learned a more effecient to execute the standardization with the `StandardScaler()` method. However in this notebook we will calculate the standardized temperature manually as a reminder for what `StandardScaler()` is doing."
   ]
  },
  {
   "cell_type": "markdown",
   "metadata": {},
   "source": [
    "Create a new column, `x`, which represents the standardized version of the temperature."
   ]
  },
  {
   "cell_type": "code",
   "execution_count": 23,
   "metadata": {},
   "outputs": [],
   "source": [
    "df['x'] = (df['Temperature'] - df.Temperature.mean()) / df.Temperature.std()"
   ]
  },
  {
   "cell_type": "markdown",
   "metadata": {},
   "source": [
    "Let's now visualizse the binary outcome with respect to the standardized input. As shown below, the overall figure is similar to what we had previously, except that the input is now negative and positive in the single digits."
   ]
  },
  {
   "cell_type": "code",
   "execution_count": 24,
   "metadata": {},
   "outputs": [
    {
     "data": {
      "image/png": "[encoded data removed]",
      "text/plain": [
       "<Figure size 720x360 with 1 Axes>"
      ]
     },
     "metadata": {},
     "output_type": "display_data"
    }
   ],
   "source": [
    "sns.relplot(data = df, x='x', y='y', s = 200, alpha = 0.5, aspect=2)\n",
    "\n",
    "plt.show()"
   ]
  },
  {
   "cell_type": "markdown",
   "metadata": {},
   "source": [
    "We will use `statsmodels` to fit the logistic regression model. The syntax is very similar to the regression case, except we need to use a different, the `smf.logit()` method. The rest of the syntax is the same. We need to specify the model of interest with the formula interface. The cell initializes the model as a linear relationship between the log-odds ratio and the input.  \n",
    "\n",
    "Remember that the `smf` formula methods require the model to be initialized and then \"fit\". Notice below that the logistic regression model is the `smf.logit()` method."
   ]
  },
  {
   "cell_type": "code",
   "execution_count": 25,
   "metadata": {},
   "outputs": [
    {
     "name": "stdout",
     "output_type": "stream",
     "text": [
      "Optimization terminated successfully.\n",
      "         Current function value: 0.441635\n",
      "         Iterations 6\n"
     ]
    }
   ],
   "source": [
    "model_fit = smf.logit(formula = 'y ~ x', data = df).fit()"
   ]
  },
  {
   "cell_type": "markdown",
   "metadata": {},
   "source": [
    "We can summarize the logistic regression fit using the `.summary()` method just like we did with linear regression. We will discuss how to read this summary report more next week. That said, you should feel comfortable identifying the coefficient estimate and the 95% uncertainty interval on the coefficients."
   ]
  },
  {
   "cell_type": "code",
   "execution_count": 26,
   "metadata": {},
   "outputs": [
    {
     "name": "stdout",
     "output_type": "stream",
     "text": [
      "                           Logit Regression Results                           \n",
      "==============================================================================\n",
      "Dep. Variable:                      y   No. Observations:                   23\n",
      "Model:                          Logit   Df Residuals:                       21\n",
      "Method:                           MLE   Df Model:                            1\n",
      "Date:                Fri, 23 Oct 2020   Pseudo R-squ.:                  0.2813\n",
      "Time:                        02:06:16   Log-Likelihood:                -10.158\n",
      "converged:                       True   LL-Null:                       -14.134\n",
      "Covariance Type:            nonrobust   LLR p-value:                  0.004804\n",
      "==============================================================================\n",
      "                 coef    std err          z      P>|z|      [0.025      0.975]\n",
      "------------------------------------------------------------------------------\n",
      "Intercept     -1.1076      0.580     -1.911      0.056      -2.244       0.028\n",
      "x             -1.6384      0.764     -2.145      0.032      -3.135      -0.141\n",
      "==============================================================================\n"
     ]
    }
   ],
   "source": [
    "print( model_fit.summary() )"
   ]
  },
  {
   "cell_type": "markdown",
   "metadata": {},
   "source": [
    "### Prediction"
   ]
  },
  {
   "cell_type": "markdown",
   "metadata": {},
   "source": [
    "The slope on the `x` variable is negative and thus the log-odds ratio will decrease as the input increases. However, it is very important to remember that the model is on the log-odds ratio and thus the log-odds will decrease on average 1.64 units for every 1 unit increase of the standardized input.  \n",
    "\n",
    "Let's make predictions to understand the behavior in the model. Rather than predicting the training set, let's make a very fine resolution grid and predict the event probability (`y=1` with respect to the standardized temperature."
   ]
  },
  {
   "cell_type": "code",
   "execution_count": 28,
   "metadata": {},
   "outputs": [],
   "source": [
    "dfviz = pd.DataFrame({'x': np.linspace(-3, 3, num=25)})"
   ]
  },
  {
   "cell_type": "markdown",
   "metadata": {},
   "source": [
    "We can then easily make predictions by assign the `dfviz` argument to the first argument of the `.predict()` method. The prediction result is assigned to the `pred_probability` prediction below."
   ]
  },
  {
   "cell_type": "code",
   "execution_count": 29,
   "metadata": {},
   "outputs": [],
   "source": [
    "dfviz['pred_probability'] = model_fit.predict(dfviz)"
   ]
  },
  {
   "cell_type": "markdown",
   "metadata": {},
   "source": [
    "We can now visualize the predicted probability of the event and compare that to the observed binary outcome."
   ]
  },
  {
   "cell_type": "code",
   "execution_count": 31,
   "metadata": {},
   "outputs": [
    {
     "data": {
      "image/png": "[encoded data removed]",
      "text/plain": [
       "<Figure size 864x432 with 1 Axes>"
      ]
     },
     "metadata": {},
     "output_type": "display_data"
    }
   ],
   "source": [
    "fig, ax = plt.subplots(figsize=(12, 6))\n",
    "\n",
    "sns.scatterplot(data = df, x='x', y='y', s=150, alpha =0.5)\n",
    "\n",
    "sns.lineplot(data = dfviz, x='x', y='pred_probability', color = 'r')\n",
    "\n",
    "plt.show()"
   ]
  },
  {
   "cell_type": "markdown",
   "metadata": {},
   "source": [
    "As shown above, the event probability is largest near the very negative values of the standardized `Temperature`. To help understand the behavior relative to the `Temparture`, let's undo the standardization."
   ]
  },
  {
   "cell_type": "code",
   "execution_count": 32,
   "metadata": {},
   "outputs": [],
   "source": [
    "dfviz['Temperature'] = df.Temperature.std() * dfviz['x'] + df.Temperature.mean()"
   ]
  },
  {
   "cell_type": "code",
   "execution_count": 33,
   "metadata": {},
   "outputs": [
    {
     "data": {
      "image/png": "[encoded data removed]",
      "text/plain": [
       "<Figure size 864x432 with 1 Axes>"
      ]
     },
     "metadata": {},
     "output_type": "display_data"
    }
   ],
   "source": [
    "fig, ax = plt.subplots(figsize=(12, 6))\n",
    "\n",
    "sns.scatterplot(data = df, x='Temperature', y='y', s=150, alpha =0.5)\n",
    "\n",
    "sns.lineplot(data = dfviz, x='Temperature', y='pred_probability', color = 'r')\n",
    "\n",
    "plt.show()"
   ]
  },
  {
   "cell_type": "markdown",
   "metadata": {},
   "source": [
    "As we can see above the failure probability equals roughly 50% when the ambient air temperature is about 65 degrees."
   ]
  }
 ],
 "metadata": {
  "kernelspec": {
   "display_name": "Python 3",
   "language": "python",
   "name": "python3"
  },
  "language_info": {
   "codemirror_mode": {
    "name": "ipython",
    "version": 3
   },
   "file_extension": ".py",
   "mimetype": "text/x-python",
   "name": "python",
   "nbconvert_exporter": "python",
   "pygments_lexer": "ipython3",
   "version": "3.8.5"
  }
 },
 "nbformat": 4,
 "nbformat_minor": 4
}
