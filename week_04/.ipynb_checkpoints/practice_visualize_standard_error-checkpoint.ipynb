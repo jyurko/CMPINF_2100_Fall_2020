{
 "cells": [
  {
   "cell_type": "markdown",
   "metadata": {},
   "source": [
    "### visualize the variability in the sample average"
   ]
  },
  {
   "cell_type": "code",
   "execution_count": 1,
   "metadata": {},
   "outputs": [],
   "source": [
    "import numpy as np\n",
    "import pandas as pd\n",
    "import matplotlib.pyplot as plt"
   ]
  },
  {
   "cell_type": "code",
   "execution_count": 2,
   "metadata": {},
   "outputs": [],
   "source": [
    "rg = np.random.default_rng(12345)"
   ]
  },
  {
   "cell_type": "code",
   "execution_count": 3,
   "metadata": {},
   "outputs": [],
   "source": [
    "### 50 replications and sample size of 7\n",
    "X = rg.random((50, 7))"
   ]
  },
  {
   "cell_type": "code",
   "execution_count": 4,
   "metadata": {},
   "outputs": [
    {
     "name": "stdout",
     "output_type": "stream",
     "text": [
      "<class 'numpy.ndarray'>\n"
     ]
    }
   ],
   "source": [
    "print( type( X ) )"
   ]
  },
  {
   "cell_type": "code",
   "execution_count": 5,
   "metadata": {},
   "outputs": [
    {
     "name": "stdout",
     "output_type": "stream",
     "text": [
      "(50, 7)\n"
     ]
    }
   ],
   "source": [
    "print( X.shape )"
   ]
  },
  {
   "cell_type": "code",
   "execution_count": 6,
   "metadata": {},
   "outputs": [],
   "source": [
    "Xdf = pd.DataFrame(X)"
   ]
  },
  {
   "cell_type": "code",
   "execution_count": 7,
   "metadata": {},
   "outputs": [
    {
     "name": "stdout",
     "output_type": "stream",
     "text": [
      "<class 'pandas.core.frame.DataFrame'>\n"
     ]
    }
   ],
   "source": [
    "print( type(Xdf) )"
   ]
  },
  {
   "cell_type": "code",
   "execution_count": 8,
   "metadata": {},
   "outputs": [
    {
     "data": {
      "text/plain": [
       "(50, 7)"
      ]
     },
     "execution_count": 8,
     "metadata": {},
     "output_type": "execute_result"
    }
   ],
   "source": [
    "Xdf.shape"
   ]
  },
  {
   "cell_type": "code",
   "execution_count": 9,
   "metadata": {},
   "outputs": [
    {
     "name": "stdout",
     "output_type": "stream",
     "text": [
      "<class 'pandas.core.frame.DataFrame'>\n",
      "RangeIndex: 50 entries, 0 to 49\n",
      "Data columns (total 7 columns):\n",
      " #   Column  Non-Null Count  Dtype  \n",
      "---  ------  --------------  -----  \n",
      " 0   0       50 non-null     float64\n",
      " 1   1       50 non-null     float64\n",
      " 2   2       50 non-null     float64\n",
      " 3   3       50 non-null     float64\n",
      " 4   4       50 non-null     float64\n",
      " 5   5       50 non-null     float64\n",
      " 6   6       50 non-null     float64\n",
      "dtypes: float64(7)\n",
      "memory usage: 2.9 KB\n"
     ]
    }
   ],
   "source": [
    "Xdf.info()"
   ]
  },
  {
   "cell_type": "code",
   "execution_count": 10,
   "metadata": {},
   "outputs": [
    {
     "name": "stdout",
     "output_type": "stream",
     "text": [
      "RangeIndex(start=0, stop=7, step=1)\n"
     ]
    }
   ],
   "source": [
    "print( Xdf.columns )"
   ]
  },
  {
   "cell_type": "code",
   "execution_count": 11,
   "metadata": {},
   "outputs": [
    {
     "data": {
      "text/html": [
       "<div>\n",
       "<style scoped>\n",
       "    .dataframe tbody tr th:only-of-type {\n",
       "        vertical-align: middle;\n",
       "    }\n",
       "\n",
       "    .dataframe tbody tr th {\n",
       "        vertical-align: top;\n",
       "    }\n",
       "\n",
       "    .dataframe thead th {\n",
       "        text-align: right;\n",
       "    }\n",
       "</style>\n",
       "<table border=\"1\" class=\"dataframe\">\n",
       "  <thead>\n",
       "    <tr style=\"text-align: right;\">\n",
       "      <th></th>\n",
       "      <th>0</th>\n",
       "      <th>1</th>\n",
       "      <th>2</th>\n",
       "      <th>3</th>\n",
       "      <th>4</th>\n",
       "      <th>5</th>\n",
       "      <th>6</th>\n",
       "    </tr>\n",
       "  </thead>\n",
       "  <tbody>\n",
       "    <tr>\n",
       "      <th>count</th>\n",
       "      <td>50.000000</td>\n",
       "      <td>50.000000</td>\n",
       "      <td>50.000000</td>\n",
       "      <td>50.000000</td>\n",
       "      <td>50.000000</td>\n",
       "      <td>50.000000</td>\n",
       "      <td>50.000000</td>\n",
       "    </tr>\n",
       "    <tr>\n",
       "      <th>mean</th>\n",
       "      <td>0.423677</td>\n",
       "      <td>0.529815</td>\n",
       "      <td>0.510537</td>\n",
       "      <td>0.464141</td>\n",
       "      <td>0.493140</td>\n",
       "      <td>0.494342</td>\n",
       "      <td>0.476601</td>\n",
       "    </tr>\n",
       "    <tr>\n",
       "      <th>std</th>\n",
       "      <td>0.302776</td>\n",
       "      <td>0.295463</td>\n",
       "      <td>0.301061</td>\n",
       "      <td>0.253040</td>\n",
       "      <td>0.283228</td>\n",
       "      <td>0.279561</td>\n",
       "      <td>0.309727</td>\n",
       "    </tr>\n",
       "    <tr>\n",
       "      <th>min</th>\n",
       "      <td>0.001519</td>\n",
       "      <td>0.036355</td>\n",
       "      <td>0.027384</td>\n",
       "      <td>0.022070</td>\n",
       "      <td>0.031399</td>\n",
       "      <td>0.008994</td>\n",
       "      <td>0.005022</td>\n",
       "    </tr>\n",
       "    <tr>\n",
       "      <th>25%</th>\n",
       "      <td>0.166366</td>\n",
       "      <td>0.296897</td>\n",
       "      <td>0.269149</td>\n",
       "      <td>0.268925</td>\n",
       "      <td>0.258326</td>\n",
       "      <td>0.275377</td>\n",
       "      <td>0.190029</td>\n",
       "    </tr>\n",
       "    <tr>\n",
       "      <th>50%</th>\n",
       "      <td>0.356258</td>\n",
       "      <td>0.526734</td>\n",
       "      <td>0.467919</td>\n",
       "      <td>0.459081</td>\n",
       "      <td>0.441312</td>\n",
       "      <td>0.476145</td>\n",
       "      <td>0.450118</td>\n",
       "    </tr>\n",
       "    <tr>\n",
       "      <th>75%</th>\n",
       "      <td>0.708068</td>\n",
       "      <td>0.800921</td>\n",
       "      <td>0.791051</td>\n",
       "      <td>0.630494</td>\n",
       "      <td>0.751659</td>\n",
       "      <td>0.742081</td>\n",
       "      <td>0.702121</td>\n",
       "    </tr>\n",
       "    <tr>\n",
       "      <th>max</th>\n",
       "      <td>0.929338</td>\n",
       "      <td>0.981174</td>\n",
       "      <td>0.993504</td>\n",
       "      <td>0.978754</td>\n",
       "      <td>0.999210</td>\n",
       "      <td>0.977532</td>\n",
       "      <td>0.986807</td>\n",
       "    </tr>\n",
       "  </tbody>\n",
       "</table>\n",
       "</div>"
      ],
      "text/plain": [
       "               0          1          2          3          4          5  \\\n",
       "count  50.000000  50.000000  50.000000  50.000000  50.000000  50.000000   \n",
       "mean    0.423677   0.529815   0.510537   0.464141   0.493140   0.494342   \n",
       "std     0.302776   0.295463   0.301061   0.253040   0.283228   0.279561   \n",
       "min     0.001519   0.036355   0.027384   0.022070   0.031399   0.008994   \n",
       "25%     0.166366   0.296897   0.269149   0.268925   0.258326   0.275377   \n",
       "50%     0.356258   0.526734   0.467919   0.459081   0.441312   0.476145   \n",
       "75%     0.708068   0.800921   0.791051   0.630494   0.751659   0.742081   \n",
       "max     0.929338   0.981174   0.993504   0.978754   0.999210   0.977532   \n",
       "\n",
       "               6  \n",
       "count  50.000000  \n",
       "mean    0.476601  \n",
       "std     0.309727  \n",
       "min     0.005022  \n",
       "25%     0.190029  \n",
       "50%     0.450118  \n",
       "75%     0.702121  \n",
       "max     0.986807  "
      ]
     },
     "execution_count": 11,
     "metadata": {},
     "output_type": "execute_result"
    }
   ],
   "source": [
    "Xdf.describe()"
   ]
  },
  {
   "cell_type": "code",
   "execution_count": 12,
   "metadata": {},
   "outputs": [
    {
     "data": {
      "text/html": [
       "<div>\n",
       "<style scoped>\n",
       "    .dataframe tbody tr th:only-of-type {\n",
       "        vertical-align: middle;\n",
       "    }\n",
       "\n",
       "    .dataframe tbody tr th {\n",
       "        vertical-align: top;\n",
       "    }\n",
       "\n",
       "    .dataframe thead th {\n",
       "        text-align: right;\n",
       "    }\n",
       "</style>\n",
       "<table border=\"1\" class=\"dataframe\">\n",
       "  <thead>\n",
       "    <tr style=\"text-align: right;\">\n",
       "      <th></th>\n",
       "      <th>0</th>\n",
       "      <th>1</th>\n",
       "      <th>2</th>\n",
       "      <th>3</th>\n",
       "      <th>4</th>\n",
       "      <th>5</th>\n",
       "      <th>6</th>\n",
       "    </tr>\n",
       "  </thead>\n",
       "  <tbody>\n",
       "    <tr>\n",
       "      <th>0</th>\n",
       "      <td>0.227336</td>\n",
       "      <td>0.316758</td>\n",
       "      <td>0.797365</td>\n",
       "      <td>0.676255</td>\n",
       "      <td>0.391110</td>\n",
       "      <td>0.332814</td>\n",
       "      <td>0.598309</td>\n",
       "    </tr>\n",
       "    <tr>\n",
       "      <th>1</th>\n",
       "      <td>0.186734</td>\n",
       "      <td>0.672756</td>\n",
       "      <td>0.941803</td>\n",
       "      <td>0.248246</td>\n",
       "      <td>0.948881</td>\n",
       "      <td>0.667237</td>\n",
       "      <td>0.095898</td>\n",
       "    </tr>\n",
       "    <tr>\n",
       "      <th>2</th>\n",
       "      <td>0.441840</td>\n",
       "      <td>0.886480</td>\n",
       "      <td>0.697453</td>\n",
       "      <td>0.326473</td>\n",
       "      <td>0.733928</td>\n",
       "      <td>0.220135</td>\n",
       "      <td>0.081595</td>\n",
       "    </tr>\n",
       "    <tr>\n",
       "      <th>3</th>\n",
       "      <td>0.159896</td>\n",
       "      <td>0.340100</td>\n",
       "      <td>0.465193</td>\n",
       "      <td>0.266421</td>\n",
       "      <td>0.815776</td>\n",
       "      <td>0.193294</td>\n",
       "      <td>0.129469</td>\n",
       "    </tr>\n",
       "    <tr>\n",
       "      <th>4</th>\n",
       "      <td>0.091665</td>\n",
       "      <td>0.598568</td>\n",
       "      <td>0.854742</td>\n",
       "      <td>0.601621</td>\n",
       "      <td>0.931988</td>\n",
       "      <td>0.724781</td>\n",
       "      <td>0.860551</td>\n",
       "    </tr>\n",
       "  </tbody>\n",
       "</table>\n",
       "</div>"
      ],
      "text/plain": [
       "          0         1         2         3         4         5         6\n",
       "0  0.227336  0.316758  0.797365  0.676255  0.391110  0.332814  0.598309\n",
       "1  0.186734  0.672756  0.941803  0.248246  0.948881  0.667237  0.095898\n",
       "2  0.441840  0.886480  0.697453  0.326473  0.733928  0.220135  0.081595\n",
       "3  0.159896  0.340100  0.465193  0.266421  0.815776  0.193294  0.129469\n",
       "4  0.091665  0.598568  0.854742  0.601621  0.931988  0.724781  0.860551"
      ]
     },
     "execution_count": 12,
     "metadata": {},
     "output_type": "execute_result"
    }
   ],
   "source": [
    "Xdf.head()"
   ]
  },
  {
   "cell_type": "code",
   "execution_count": 13,
   "metadata": {},
   "outputs": [
    {
     "name": "stdout",
     "output_type": "stream",
     "text": [
      "(7, 50)\n"
     ]
    }
   ],
   "source": [
    "### is transpose or reshape by flipping rows and columns\n",
    "print( Xdf.T.shape )"
   ]
  },
  {
   "cell_type": "code",
   "execution_count": 14,
   "metadata": {},
   "outputs": [
    {
     "data": {
      "text/html": [
       "<div>\n",
       "<style scoped>\n",
       "    .dataframe tbody tr th:only-of-type {\n",
       "        vertical-align: middle;\n",
       "    }\n",
       "\n",
       "    .dataframe tbody tr th {\n",
       "        vertical-align: top;\n",
       "    }\n",
       "\n",
       "    .dataframe thead th {\n",
       "        text-align: right;\n",
       "    }\n",
       "</style>\n",
       "<table border=\"1\" class=\"dataframe\">\n",
       "  <thead>\n",
       "    <tr style=\"text-align: right;\">\n",
       "      <th></th>\n",
       "      <th>0</th>\n",
       "      <th>1</th>\n",
       "      <th>2</th>\n",
       "      <th>3</th>\n",
       "      <th>4</th>\n",
       "      <th>5</th>\n",
       "      <th>6</th>\n",
       "      <th>7</th>\n",
       "      <th>8</th>\n",
       "      <th>9</th>\n",
       "      <th>...</th>\n",
       "      <th>40</th>\n",
       "      <th>41</th>\n",
       "      <th>42</th>\n",
       "      <th>43</th>\n",
       "      <th>44</th>\n",
       "      <th>45</th>\n",
       "      <th>46</th>\n",
       "      <th>47</th>\n",
       "      <th>48</th>\n",
       "      <th>49</th>\n",
       "    </tr>\n",
       "  </thead>\n",
       "  <tbody>\n",
       "    <tr>\n",
       "      <th>0</th>\n",
       "      <td>0.227336</td>\n",
       "      <td>0.186734</td>\n",
       "      <td>0.441840</td>\n",
       "      <td>0.159896</td>\n",
       "      <td>0.091665</td>\n",
       "      <td>0.929338</td>\n",
       "      <td>0.330891</td>\n",
       "      <td>0.628605</td>\n",
       "      <td>0.150202</td>\n",
       "      <td>0.260579</td>\n",
       "      <td>...</td>\n",
       "      <td>0.034540</td>\n",
       "      <td>0.212395</td>\n",
       "      <td>0.683589</td>\n",
       "      <td>0.802352</td>\n",
       "      <td>0.897727</td>\n",
       "      <td>0.515312</td>\n",
       "      <td>0.452907</td>\n",
       "      <td>0.412752</td>\n",
       "      <td>0.129356</td>\n",
       "      <td>0.712500</td>\n",
       "    </tr>\n",
       "    <tr>\n",
       "      <th>1</th>\n",
       "      <td>0.316758</td>\n",
       "      <td>0.672756</td>\n",
       "      <td>0.886480</td>\n",
       "      <td>0.340100</td>\n",
       "      <td>0.598568</td>\n",
       "      <td>0.546186</td>\n",
       "      <td>0.903454</td>\n",
       "      <td>0.282383</td>\n",
       "      <td>0.217929</td>\n",
       "      <td>0.482762</td>\n",
       "      <td>...</td>\n",
       "      <td>0.597031</td>\n",
       "      <td>0.066380</td>\n",
       "      <td>0.958180</td>\n",
       "      <td>0.211683</td>\n",
       "      <td>0.384452</td>\n",
       "      <td>0.900684</td>\n",
       "      <td>0.316618</td>\n",
       "      <td>0.697707</td>\n",
       "      <td>0.750596</td>\n",
       "      <td>0.066532</td>\n",
       "    </tr>\n",
       "    <tr>\n",
       "      <th>2</th>\n",
       "      <td>0.797365</td>\n",
       "      <td>0.941803</td>\n",
       "      <td>0.697453</td>\n",
       "      <td>0.465193</td>\n",
       "      <td>0.854742</td>\n",
       "      <td>0.937673</td>\n",
       "      <td>0.257074</td>\n",
       "      <td>0.068088</td>\n",
       "      <td>0.474333</td>\n",
       "      <td>0.211979</td>\n",
       "      <td>...</td>\n",
       "      <td>0.741959</td>\n",
       "      <td>0.169662</td>\n",
       "      <td>0.329510</td>\n",
       "      <td>0.862919</td>\n",
       "      <td>0.424683</td>\n",
       "      <td>0.330992</td>\n",
       "      <td>0.243185</td>\n",
       "      <td>0.305373</td>\n",
       "      <td>0.431516</td>\n",
       "      <td>0.491942</td>\n",
       "    </tr>\n",
       "    <tr>\n",
       "      <th>3</th>\n",
       "      <td>0.676255</td>\n",
       "      <td>0.248246</td>\n",
       "      <td>0.326473</td>\n",
       "      <td>0.266421</td>\n",
       "      <td>0.601621</td>\n",
       "      <td>0.494988</td>\n",
       "      <td>0.339828</td>\n",
       "      <td>0.616829</td>\n",
       "      <td>0.476369</td>\n",
       "      <td>0.495631</td>\n",
       "      <td>...</td>\n",
       "      <td>0.978754</td>\n",
       "      <td>0.744433</td>\n",
       "      <td>0.192258</td>\n",
       "      <td>0.056675</td>\n",
       "      <td>0.715145</td>\n",
       "      <td>0.367446</td>\n",
       "      <td>0.247427</td>\n",
       "      <td>0.826496</td>\n",
       "      <td>0.125945</td>\n",
       "      <td>0.051604</td>\n",
       "    </tr>\n",
       "    <tr>\n",
       "      <th>4</th>\n",
       "      <td>0.391110</td>\n",
       "      <td>0.948881</td>\n",
       "      <td>0.733928</td>\n",
       "      <td>0.815776</td>\n",
       "      <td>0.931988</td>\n",
       "      <td>0.273773</td>\n",
       "      <td>0.258853</td>\n",
       "      <td>0.176326</td>\n",
       "      <td>0.255232</td>\n",
       "      <td>0.246261</td>\n",
       "      <td>...</td>\n",
       "      <td>0.554160</td>\n",
       "      <td>0.260969</td>\n",
       "      <td>0.136789</td>\n",
       "      <td>0.381417</td>\n",
       "      <td>0.640114</td>\n",
       "      <td>0.351432</td>\n",
       "      <td>0.797544</td>\n",
       "      <td>0.213070</td>\n",
       "      <td>0.536214</td>\n",
       "      <td>0.976092</td>\n",
       "    </tr>\n",
       "    <tr>\n",
       "      <th>5</th>\n",
       "      <td>0.332814</td>\n",
       "      <td>0.667237</td>\n",
       "      <td>0.220135</td>\n",
       "      <td>0.193294</td>\n",
       "      <td>0.724781</td>\n",
       "      <td>0.451779</td>\n",
       "      <td>0.355446</td>\n",
       "      <td>0.304388</td>\n",
       "      <td>0.297565</td>\n",
       "      <td>0.838483</td>\n",
       "      <td>...</td>\n",
       "      <td>0.931868</td>\n",
       "      <td>0.112238</td>\n",
       "      <td>0.943378</td>\n",
       "      <td>0.401931</td>\n",
       "      <td>0.894153</td>\n",
       "      <td>0.489512</td>\n",
       "      <td>0.385591</td>\n",
       "      <td>0.275187</td>\n",
       "      <td>0.488322</td>\n",
       "      <td>0.659899</td>\n",
       "    </tr>\n",
       "    <tr>\n",
       "      <th>6</th>\n",
       "      <td>0.598309</td>\n",
       "      <td>0.095898</td>\n",
       "      <td>0.081595</td>\n",
       "      <td>0.129469</td>\n",
       "      <td>0.860551</td>\n",
       "      <td>0.665039</td>\n",
       "      <td>0.005022</td>\n",
       "      <td>0.440887</td>\n",
       "      <td>0.279067</td>\n",
       "      <td>0.180131</td>\n",
       "      <td>...</td>\n",
       "      <td>0.951966</td>\n",
       "      <td>0.943388</td>\n",
       "      <td>0.164165</td>\n",
       "      <td>0.976242</td>\n",
       "      <td>0.687194</td>\n",
       "      <td>0.034729</td>\n",
       "      <td>0.980744</td>\n",
       "      <td>0.292518</td>\n",
       "      <td>0.505251</td>\n",
       "      <td>0.169185</td>\n",
       "    </tr>\n",
       "  </tbody>\n",
       "</table>\n",
       "<p>7 rows × 50 columns</p>\n",
       "</div>"
      ],
      "text/plain": [
       "         0         1         2         3         4         5         6   \\\n",
       "0  0.227336  0.186734  0.441840  0.159896  0.091665  0.929338  0.330891   \n",
       "1  0.316758  0.672756  0.886480  0.340100  0.598568  0.546186  0.903454   \n",
       "2  0.797365  0.941803  0.697453  0.465193  0.854742  0.937673  0.257074   \n",
       "3  0.676255  0.248246  0.326473  0.266421  0.601621  0.494988  0.339828   \n",
       "4  0.391110  0.948881  0.733928  0.815776  0.931988  0.273773  0.258853   \n",
       "5  0.332814  0.667237  0.220135  0.193294  0.724781  0.451779  0.355446   \n",
       "6  0.598309  0.095898  0.081595  0.129469  0.860551  0.665039  0.005022   \n",
       "\n",
       "         7         8         9   ...        40        41        42        43  \\\n",
       "0  0.628605  0.150202  0.260579  ...  0.034540  0.212395  0.683589  0.802352   \n",
       "1  0.282383  0.217929  0.482762  ...  0.597031  0.066380  0.958180  0.211683   \n",
       "2  0.068088  0.474333  0.211979  ...  0.741959  0.169662  0.329510  0.862919   \n",
       "3  0.616829  0.476369  0.495631  ...  0.978754  0.744433  0.192258  0.056675   \n",
       "4  0.176326  0.255232  0.246261  ...  0.554160  0.260969  0.136789  0.381417   \n",
       "5  0.304388  0.297565  0.838483  ...  0.931868  0.112238  0.943378  0.401931   \n",
       "6  0.440887  0.279067  0.180131  ...  0.951966  0.943388  0.164165  0.976242   \n",
       "\n",
       "         44        45        46        47        48        49  \n",
       "0  0.897727  0.515312  0.452907  0.412752  0.129356  0.712500  \n",
       "1  0.384452  0.900684  0.316618  0.697707  0.750596  0.066532  \n",
       "2  0.424683  0.330992  0.243185  0.305373  0.431516  0.491942  \n",
       "3  0.715145  0.367446  0.247427  0.826496  0.125945  0.051604  \n",
       "4  0.640114  0.351432  0.797544  0.213070  0.536214  0.976092  \n",
       "5  0.894153  0.489512  0.385591  0.275187  0.488322  0.659899  \n",
       "6  0.687194  0.034729  0.980744  0.292518  0.505251  0.169185  \n",
       "\n",
       "[7 rows x 50 columns]"
      ]
     },
     "execution_count": 14,
     "metadata": {},
     "output_type": "execute_result"
    }
   ],
   "source": [
    "Xdf.T"
   ]
  },
  {
   "cell_type": "code",
   "execution_count": 15,
   "metadata": {},
   "outputs": [
    {
     "data": {
      "image/png": "[encoded data removed]",
      "text/plain": [
       "<Figure size 1296x432 with 1 Axes>"
      ]
     },
     "metadata": {
      "needs_background": "light"
     },
     "output_type": "display_data"
    }
   ],
   "source": [
    "### use a boxplot to summarize the variability across the 7 random samples\n",
    "### per replication \n",
    "\n",
    "fig, ax = plt.subplots(figsize=(18, 6))\n",
    "\n",
    "Xdf.T.boxplot(showmeans=True)\n",
    "\n",
    "plt.show()"
   ]
  },
  {
   "cell_type": "code",
   "execution_count": 16,
   "metadata": {},
   "outputs": [],
   "source": [
    "### more replications\n",
    "Xmorereps = pd.DataFrame(rg.random((200, 7)))"
   ]
  },
  {
   "cell_type": "code",
   "execution_count": 17,
   "metadata": {},
   "outputs": [
    {
     "data": {
      "image/png": "[encoded data removed]",
      "text/plain": [
       "<Figure size 1728x864 with 1 Axes>"
      ]
     },
     "metadata": {
      "needs_background": "light"
     },
     "output_type": "display_data"
    }
   ],
   "source": [
    "fig, ax = plt.subplots(figsize=(24, 12))\n",
    "\n",
    "Xmorereps.T.boxplot(showmeans=True)\n",
    "\n",
    "plt.show()"
   ]
  },
  {
   "cell_type": "code",
   "execution_count": 18,
   "metadata": {},
   "outputs": [],
   "source": [
    "### what if we used 700 random samples per replication????\n",
    "rg = np.random.default_rng(12345)\n",
    "\n",
    "X700DF = pd.DataFrame( rg.random((50, 700)) )"
   ]
  },
  {
   "cell_type": "code",
   "execution_count": 19,
   "metadata": {},
   "outputs": [
    {
     "data": {
      "image/png": "[encoded data removed]",
      "text/plain": [
       "<Figure size 1728x864 with 1 Axes>"
      ]
     },
     "metadata": {
      "needs_background": "light"
     },
     "output_type": "display_data"
    }
   ],
   "source": [
    "fig, ax = plt.subplots(figsize=(24, 12))\n",
    "\n",
    "X700DF.T.boxplot(showmeans=True)\n",
    "\n",
    "plt.show()"
   ]
  },
  {
   "cell_type": "code",
   "execution_count": null,
   "metadata": {},
   "outputs": [],
   "source": []
  }
 ],
 "metadata": {
  "kernelspec": {
   "display_name": "Python 3",
   "language": "python",
   "name": "python3"
  },
  "language_info": {
   "codemirror_mode": {
    "name": "ipython",
    "version": 3
   },
   "file_extension": ".py",
   "mimetype": "text/x-python",
   "name": "python",
   "nbconvert_exporter": "python",
   "pygments_lexer": "ipython3",
   "version": "3.8.3"
  }
 },
 "nbformat": 4,
 "nbformat_minor": 4
}
