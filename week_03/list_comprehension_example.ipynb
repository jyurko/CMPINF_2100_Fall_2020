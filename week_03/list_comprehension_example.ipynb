{
 "cells": [
  {
   "cell_type": "code",
   "execution_count": 2,
   "metadata": {},
   "outputs": [
    {
     "name": "stdout",
     "output_type": "stream",
     "text": [
      "a\n",
      "*--*\n",
      "a\n",
      "*--*\n",
      "a\n",
      "*--*\n",
      "* --- * --- *\n",
      "aa\n",
      "*--*\n",
      "aa\n",
      "*--*\n",
      "aa\n",
      "*--*\n",
      "* --- * --- *\n",
      "aaa\n",
      "*--*\n",
      "aaa\n",
      "*--*\n",
      "aaa\n",
      "*--*\n",
      "* --- * --- *\n",
      "aaaa\n",
      "*--*\n",
      "aaaa\n",
      "*--*\n",
      "aaaa\n",
      "*--*\n",
      "* --- * --- *\n"
     ]
    }
   ],
   "source": [
    "for n in range(1, 5):\n",
    "    for _ in range(3):\n",
    "        print( n * 'a' )\n",
    "        print( \"*--*\")\n",
    "    print(\"* --- * --- *\")"
   ]
  },
  {
   "cell_type": "code",
   "execution_count": 3,
   "metadata": {},
   "outputs": [
    {
     "name": "stdout",
     "output_type": "stream",
     "text": [
      "a\n",
      "a\n",
      "a\n",
      "aa\n",
      "aa\n",
      "aa\n",
      "aaa\n",
      "aaa\n",
      "aaa\n",
      "aaaa\n",
      "aaaa\n",
      "aaaa\n"
     ]
    },
    {
     "data": {
      "text/plain": [
       "[[None, None, None],\n",
       " [None, None, None],\n",
       " [None, None, None],\n",
       " [None, None, None]]"
      ]
     },
     "execution_count": 3,
     "metadata": {},
     "output_type": "execute_result"
    }
   ],
   "source": [
    "[[print(n * \"a\") for _ in range(3)] for n in range(1, 5)]"
   ]
  },
  {
   "cell_type": "code",
   "execution_count": null,
   "metadata": {},
   "outputs": [],
   "source": []
  }
 ],
 "metadata": {
  "kernelspec": {
   "display_name": "Python 3",
   "language": "python",
   "name": "python3"
  },
  "language_info": {
   "codemirror_mode": {
    "name": "ipython",
    "version": 3
   },
   "file_extension": ".py",
   "mimetype": "text/x-python",
   "name": "python",
   "nbconvert_exporter": "python",
   "pygments_lexer": "ipython3",
   "version": "3.8.3"
  }
 },
 "nbformat": 4,
 "nbformat_minor": 4
}
